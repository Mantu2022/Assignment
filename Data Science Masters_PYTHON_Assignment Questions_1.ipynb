{
 "cells": [
  {
   "cell_type": "code",
   "execution_count": null,
   "id": "4445dda2",
   "metadata": {},
   "outputs": [],
   "source": [
    "1.  Who developed Python Programming Language?"
   ]
  },
  {
   "cell_type": "code",
   "execution_count": null,
   "id": "18b64b0b",
   "metadata": {},
   "outputs": [],
   "source": [
    "Python programming language was developed by Guido van Rossum."
   ]
  },
  {
   "cell_type": "code",
   "execution_count": null,
   "id": "e17cb011",
   "metadata": {},
   "outputs": [],
   "source": [
    "2. Which type of Programming does Python support? "
   ]
  },
  {
   "cell_type": "code",
   "execution_count": null,
   "id": "404b4965",
   "metadata": {},
   "outputs": [],
   "source": [
    "Python supports multiple programming paradigms, making it a versatile language. The main programming paradigms supported by Python are:\n",
    "1. Imperative Programming\n",
    "2. Object-Oriented Programming (OOP)\n",
    "3. Functional Programming\n",
    "4. Procedural Programming\n",
    "5. Scripting\n",
    "6. Dynamic Programming\n"
   ]
  },
  {
   "cell_type": "code",
   "execution_count": null,
   "id": "96867413",
   "metadata": {},
   "outputs": [],
   "source": [
    "3. Is Python case sensitive when dealing with identifiers?"
   ]
  },
  {
   "cell_type": "code",
   "execution_count": null,
   "id": "4ba0bb1e",
   "metadata": {},
   "outputs": [],
   "source": [
    "Yes, Python is case sensitive when dealing with identifiers. Identifiers in Python include variable names, function names, class names, module names, and any other user-defined names."
   ]
  },
  {
   "cell_type": "code",
   "execution_count": null,
   "id": "3e5fe39b",
   "metadata": {},
   "outputs": [],
   "source": [
    "4. What is the correct extension of the Python file?"
   ]
  },
  {
   "cell_type": "code",
   "execution_count": null,
   "id": "a645cbcc",
   "metadata": {},
   "outputs": [],
   "source": [
    "The correct extension for Python files is .py."
   ]
  },
  {
   "cell_type": "code",
   "execution_count": null,
   "id": "647b39f5",
   "metadata": {},
   "outputs": [],
   "source": [
    "5. Is Python code compiled or interpreted?"
   ]
  },
  {
   "cell_type": "code",
   "execution_count": null,
   "id": "52893414",
   "metadata": {},
   "outputs": [],
   "source": [
    "Python is an interpreted language, which means that Python code is executed line by line by an interpreter rather than being compiled into machine code beforehand."
   ]
  },
  {
   "cell_type": "code",
   "execution_count": null,
   "id": "125c732d",
   "metadata": {},
   "outputs": [],
   "source": [
    "6. Name a few blocks of code used to define in Python language?"
   ]
  },
  {
   "cell_type": "code",
   "execution_count": null,
   "id": "a93ed8c4",
   "metadata": {},
   "outputs": [],
   "source": [
    "In Python, blocks of code are defined using indentation. Indentation is significant in Python and serves as a way to group statements together. Here are a few examples of code blocks commonly used in Python:\n",
    "Function Definition:\n",
    "1. A block of code that defines a function and groups together the statements that make up the function's body. The block is indented under the def statement that declares the function.\n",
    "2. Conditional Statements:\n",
    "Blocks of code used for conditional execution based on certain conditions. They are defined using if, elif (optional), and else (optional) statements. The code block under each condition is indented."
   ]
  },
  {
   "cell_type": "code",
   "execution_count": null,
   "id": "fae5ecd7",
   "metadata": {},
   "outputs": [],
   "source": [
    "7. State a character used to give single-line comments in Python? "
   ]
  },
  {
   "cell_type": "code",
   "execution_count": null,
   "id": "b23c5fa9",
   "metadata": {},
   "outputs": [],
   "source": [
    "In Python, the hash symbol (#) is used to indicate single-line comments. Any text following the # symbol on the same line is treated as a comment and is ignored by the Python interpreter during execution.\n",
    "\n",
    "Here's an example of a single-line comment in Python: \n",
    "# This is a single-line comment"
   ]
  },
  {
   "cell_type": "code",
   "execution_count": null,
   "id": "14441944",
   "metadata": {},
   "outputs": [],
   "source": [
    "8. Mention functions which can help us to find the version of python that we are currently working on? "
   ]
  },
  {
   "cell_type": "code",
   "execution_count": null,
   "id": "3e9c43b5",
   "metadata": {},
   "outputs": [],
   "source": [
    "In Python, you can use the following functions to determine the version of Python you are currently working with:\n",
    "\n",
    "'sys.version'\n",
    "This function returns a string that represents the version number of the current Python interpreter. It provides detailed information about the Python version, including the major version, minor version, and other details."
   ]
  },
  {
   "cell_type": "code",
   "execution_count": 1,
   "id": "472e726b",
   "metadata": {},
   "outputs": [
    {
     "name": "stdout",
     "output_type": "stream",
     "text": [
      "3.9.7 (default, Sep 16 2021, 16:59:28) [MSC v.1916 64 bit (AMD64)]\n"
     ]
    }
   ],
   "source": [
    "import sys\n",
    "\n",
    "print(sys.version)"
   ]
  },
  {
   "cell_type": "code",
   "execution_count": null,
   "id": "24233bb6",
   "metadata": {},
   "outputs": [],
   "source": [
    "9. Python supports the creation of anonymous functions at runtime, using a construct called?"
   ]
  },
  {
   "cell_type": "code",
   "execution_count": null,
   "id": "b8244434",
   "metadata": {},
   "outputs": [],
   "source": [
    "Python supports the creation of anonymous functions at runtime using a construct called \"lambda\" functions."
   ]
  },
  {
   "cell_type": "code",
   "execution_count": null,
   "id": "95bd895e",
   "metadata": {},
   "outputs": [],
   "source": [
    "10. What does pip stand for python?"
   ]
  },
  {
   "cell_type": "code",
   "execution_count": null,
   "id": "f26ef199",
   "metadata": {},
   "outputs": [],
   "source": [
    "PIP stands for \"Pip Installs Packages\" or \"Preferred Installer Program\" in the context of Python."
   ]
  },
  {
   "cell_type": "code",
   "execution_count": null,
   "id": "b6b9977a",
   "metadata": {},
   "outputs": [],
   "source": [
    "11. Mention a few built-in functions in python?"
   ]
  },
  {
   "cell_type": "code",
   "execution_count": null,
   "id": "a3c702d6",
   "metadata": {},
   "outputs": [],
   "source": [
    "Here are some commonly used built-in functions in Python:\n",
    "1. print(): Used to display output on the console or terminal.\n",
    "2. len(): Returns the length (number of items) of an object like a string, list, tuple, or dictionary.\n",
    "3. input(): Reads user input from the console."
   ]
  },
  {
   "cell_type": "code",
   "execution_count": null,
   "id": "d10a6df9",
   "metadata": {},
   "outputs": [],
   "source": [
    "12. What is the maximum possible length of an identifier in Python? "
   ]
  },
  {
   "cell_type": "code",
   "execution_count": null,
   "id": "743c0120",
   "metadata": {},
   "outputs": [],
   "source": [
    "The maximum possible length of an identifier (variable name, function name, class name, etc.) is not explicitly defined. However, there is a practical limit imposed by the implementation and conventions followed in Python.\n",
    "According to the Python style guide (PEP 8), it is recommended to limit the length of identifiers to a maximum of 79 characters to ensure readability and maintainability of the code."
   ]
  },
  {
   "cell_type": "code",
   "execution_count": null,
   "id": "86ff97f9",
   "metadata": {},
   "outputs": [],
   "source": [
    "13. What are the benefits of using Python? "
   ]
  },
  {
   "cell_type": "code",
   "execution_count": null,
   "id": "22371428",
   "metadata": {},
   "outputs": [],
   "source": [
    "There are several benefits of using Python as a programming language:\n",
    "    \n",
    "1. Readability and Simplicity: Python has a clean and readable syntax that emphasizes code readability and simplicity. This makes it easier to understand and maintain Python code, reducing the time and effort required for development and debugging.\n",
    "2. Large and Active Community: Python has a large and active community of developers, which means there is extensive documentation, tutorials, and support available. The community also contributes to the development of libraries, frameworks, and tools, expanding the functionality and versatility of Python.\n",
    "3. Cross-platform Compatibility: Python is available on various operating systems, including Windows, macOS, Linux, and others. This cross-platform compatibility allows Python code to be developed and run on different systems without significant modifications.\n",
    "4. Extensive Standard Library: Python comes with a comprehensive standard library that provides ready-to-use modules for various tasks, such as file I/O, networking, data processing, web development, and more. The standard library helps save development time by providing pre-built functionality and reduces the need for external dependencies.\n",
    "5. Third-Party Libraries and Ecosystem: Python has a vast ecosystem of third-party libraries and frameworks, such as NumPy, pandas, Django, Flask, TensorFlow, and many more. These libraries offer additional functionality for specific domains like data analysis, machine learning, web development, scientific computing, and more, making Python a versatile language for a wide range of applications.\n",
    "6. Rapid Development: Python's simplicity and ease of use contribute to rapid development. The availability of reusable code, extensive libraries, and frameworks further accelerates development time. Python's interpreted nature allows for quick iteration and testing, making it suitable for prototyping and agile development practices.\n",
    "7. Integration Capabilities: Python offers seamless integration with other languages like C, C++, and Java. It can be used as a scripting language or glue code to connect different components of an application or system.\n",
    "8. Scalability and Performance: Python provides options for optimizing code performance, such as using libraries like NumPy for efficient array operations or using external libraries implemented in faster languages. Additionally, Python supports multiprocessing, multithreading, and asynchronous programming, enabling scalability for computationally intensive tasks.\n",
    "\n",
    "These are some of the key benefits of using Python, making it a popular choice for a wide range of applications, including web development, data analysis, scientific computing, machine learning, automation, and more."
   ]
  },
  {
   "cell_type": "code",
   "execution_count": null,
   "id": "d09a08a1",
   "metadata": {},
   "outputs": [],
   "source": [
    "14. How is memory managed in Python?"
   ]
  },
  {
   "cell_type": "code",
   "execution_count": null,
   "id": "9a09d8ae",
   "metadata": {},
   "outputs": [],
   "source": [
    "Memory management is handled automatically through a mechanism called \"garbage collection.\" Python uses a combination of reference counting and a cycle detection algorithm to manage memory efficiently."
   ]
  },
  {
   "cell_type": "code",
   "execution_count": null,
   "id": "1ec919e9",
   "metadata": {},
   "outputs": [],
   "source": [
    "15. How to install Python on Windows and set path variables? "
   ]
  },
  {
   "cell_type": "code",
   "execution_count": null,
   "id": "0bdcf606",
   "metadata": {},
   "outputs": [],
   "source": [
    "To install Python on Windows and set the path variables, you can follow these steps:\n",
    "\n",
    "1. Download Python: Visit the official Python website at https://www.python.org/.\n",
    "Go to the Downloads section and click on the \"Download Python\" button.\n",
    "Choose the appropriate Python version for your Windows system (e.g., Python 3.9.5).\n",
    "Select the installer based on your system architecture (32-bit or 64-bit).\n",
    "Download the installer (.exe) file to your computer.\n",
    "\n",
    "2. Run the Installer: Locate the downloaded installer file and double-click on it to run the installer.\n",
    "In the Python Installer, make sure to check the box that says \"Add Python to PATH\" during the installation setup.\n",
    "Click on the \"Customize installation\" option if you want to customize the installation location or optional features.\n",
    "Click on the \"Install Now\" button to start the installation process.\n",
    "\n",
    "3. Verify the Installation: After the installation is complete, open the Command Prompt by pressing Win + R, typing \"cmd\", and hitting Enter.\n",
    "In the Command Prompt, type python --version and press Enter.\n",
    "If Python is successfully installed, it will display the installed Python version.\n",
    "\n",
    "4. Set Path Variables (Optional): Setting the path variables allows you to run Python from any location in the Command Prompt.\n",
    "Right-click on the \"This PC\" or \"My Computer\" icon on your desktop and select \"Properties.\"\n",
    "In the System window, click on \"Advanced system settings\" on the left side.\n",
    "In the System Properties window, click on the \"Environment Variables\" button.\n",
    "In the Environment Variables window, under \"System Variables,\" locate the \"Path\" variable and select it.\n",
    "Click on the \"Edit\" button to modify the Path variable.\n",
    "Add the path to your Python installation directory (e.g., C:\\Python39) at the end of the Variable value.\n",
    "Click \"OK\" to save the changes.\n",
    "\n",
    "5. Verify the Path Variables: Open a new Command Prompt window.\n",
    "Type python and press Enter.\n",
    "If Python is successfully recognized and launched, it means the path variables are set correctly."
   ]
  },
  {
   "cell_type": "code",
   "execution_count": null,
   "id": "211d1b11",
   "metadata": {},
   "outputs": [],
   "source": [
    "16. Is indentation required in python?"
   ]
  },
  {
   "cell_type": "code",
   "execution_count": null,
   "id": "82a790b4",
   "metadata": {},
   "outputs": [],
   "source": [
    "Yes, indentation is required in python."
   ]
  },
  {
   "cell_type": "code",
   "execution_count": null,
   "id": "ab1c7c26",
   "metadata": {},
   "outputs": [],
   "source": []
  }
 ],
 "metadata": {
  "kernelspec": {
   "display_name": "Python 3 (ipykernel)",
   "language": "python",
   "name": "python3"
  },
  "language_info": {
   "codemirror_mode": {
    "name": "ipython",
    "version": 3
   },
   "file_extension": ".py",
   "mimetype": "text/x-python",
   "name": "python",
   "nbconvert_exporter": "python",
   "pygments_lexer": "ipython3",
   "version": "3.9.7"
  }
 },
 "nbformat": 4,
 "nbformat_minor": 5
}
