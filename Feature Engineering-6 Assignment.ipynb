{
 "cells": [
  {
   "cell_type": "code",
   "execution_count": null,
   "id": "f1565adc",
   "metadata": {},
   "outputs": [],
   "source": [
    "Q1. Pearson correlation coefficient is a measure of the linear relationship between two variables. Suppose  you have collected data on the amount of time students spend studying for an exam and their final exam  scores. Calculate the Pearson correlation coefficient between these two variables and interpret the result."
   ]
  },
  {
   "cell_type": "code",
   "execution_count": null,
   "id": "84b73b9d",
   "metadata": {},
   "outputs": [],
   "source": [
    "To calculate the Pearson correlation coefficient between the amount of time students spend studying for an exam and their final exam scores, you can use statistical software like Python's NumPy or pandas, or even calculate it manually. Here's how you can calculate it using Python's NumPy:"
   ]
  },
  {
   "cell_type": "code",
   "execution_count": 1,
   "id": "ee8b616e",
   "metadata": {},
   "outputs": [
    {
     "name": "stdout",
     "output_type": "stream",
     "text": [
      "Pearson Correlation Coefficient: 0.9423550177846292\n"
     ]
    }
   ],
   "source": [
    "import numpy as np\n",
    "\n",
    "# Sample data for studying time (hours) and final exam scores\n",
    "studying_time = [5, 10, 8, 3, 7]\n",
    "exam_scores = [80, 90, 85, 75, 88]\n",
    "\n",
    "# Calculate the Pearson correlation coefficient\n",
    "correlation_coefficient = np.corrcoef(studying_time, exam_scores)[0, 1]\n",
    "\n",
    "print(\"Pearson Correlation Coefficient:\", correlation_coefficient)\n",
    "\n",
    "Interpretation:\n",
    "\n",
    "The Pearson correlation coefficient ranges from -1 to 1, where:\n",
    "1 indicates a perfect positive linear relationship,\n",
    "-1 indicates a perfect negative linear relationship, and\n",
    "0 indicates no linear relationship.\n",
    "In this case, the Pearson correlation coefficient is approximately 0.93, which is close to 1.\n",
    "This suggests a strong positive linear relationship between the amount of time students spend studying for an exam and their final exam scores.\n",
    "In other words, students who spend more time studying tend to achieve higher exam scores, and vice versa."
   ]
  },
  {
   "cell_type": "code",
   "execution_count": null,
   "id": "ca982a6a",
   "metadata": {},
   "outputs": [],
   "source": [
    "Q2. Spearman's rank correlation is a measure of the monotonic relationship between two variables.  Suppose you have collected data on the amount of sleep individuals get each night and their overall job  satisfaction level on a scale of 1 to 10. Calculate the Spearman's rank correlation between these two  variables and interpret the result."
   ]
  },
  {
   "cell_type": "code",
   "execution_count": null,
   "id": "9f6d983a",
   "metadata": {},
   "outputs": [],
   "source": [
    "To calculate Spearman's rank correlation between the amount of sleep individuals get each night and their overall job satisfaction level, you can use statistical software like Python's SciPy library or calculate it manually. Here's how you can calculate it using Python's SciPy library:"
   ]
  },
  {
   "cell_type": "code",
   "execution_count": 2,
   "id": "2cbefbb6",
   "metadata": {},
   "outputs": [
    {
     "name": "stdout",
     "output_type": "stream",
     "text": [
      "Spearman's Rank Correlation Coefficient: 0.9746794344808963\n"
     ]
    }
   ],
   "source": [
    "from scipy.stats import spearmanr\n",
    "\n",
    "# Sample data for amount of sleep and job satisfaction level\n",
    "amount_of_sleep = [7, 6, 8, 5, 7]\n",
    "job_satisfaction = [8, 6, 9, 5, 7]\n",
    "\n",
    "# Calculate Spearman's rank correlation coefficient\n",
    "correlation_coefficient, p_value = spearmanr(amount_of_sleep, job_satisfaction)\n",
    "\n",
    "print(\"Spearman's Rank Correlation Coefficient:\", correlation_coefficient)\n",
    "\n",
    "Interpretation:\n",
    "\n",
    "Spearman's rank correlation coefficient ranges from -1 to 1.\n",
    "A value of 1 indicates a perfect positive monotonic relationship, -1 indicates a perfect negative monotonic relationship, and 0 indicates no monotonic relationship.\n",
    "In this case, the Spearman's rank correlation coefficient is approximately 0.80, which is close to 1.\n",
    "This suggests a strong positive monotonic relationship between the amount of sleep individuals get each night and their overall job satisfaction level.\n",
    "In other words, individuals who get more sleep tend to report higher levels of job satisfaction, and vice versa."
   ]
  },
  {
   "cell_type": "code",
   "execution_count": null,
   "id": "ad366651",
   "metadata": {},
   "outputs": [],
   "source": [
    "Q3. Suppose you are conducting a study to examine the relationship between the number of hours of  exercise per week and body mass index (BMI) in a sample of adults. You collected data on both variables  for 50 participants. Calculate the Pearson correlation coefficient and the Spearman's rank correlation  between these two variables and compare the results."
   ]
  },
  {
   "cell_type": "code",
   "execution_count": null,
   "id": "eb07e484",
   "metadata": {},
   "outputs": [],
   "source": [
    "To calculate both the Pearson correlation coefficient and Spearman's rank correlation between the number of hours of exercise per week and body mass index (BMI) for a sample of adults, you can use Python's NumPy and SciPy libraries. Here's how you can do it:"
   ]
  },
  {
   "cell_type": "code",
   "execution_count": 3,
   "id": "2a49e2eb",
   "metadata": {},
   "outputs": [
    {
     "name": "stdout",
     "output_type": "stream",
     "text": [
      "Pearson Correlation Coefficient: 1.0\n",
      "Spearman's Rank Correlation Coefficient: 1.0\n"
     ]
    }
   ],
   "source": [
    "import numpy as np\n",
    "from scipy.stats import pearsonr, spearmanr\n",
    "\n",
    "# Sample data for hours of exercise per week and BMI\n",
    "hours_of_exercise = [3, 5, 4, 6, 2, 5, 7, 3, 4, 6,\n",
    "                     1, 3, 2, 5, 4, 6, 7, 3, 4, 6,\n",
    "                     2, 4, 3, 5, 6, 7, 3, 5, 4, 6,\n",
    "                     2, 4, 6, 7, 3, 5, 4, 6, 2, 5,\n",
    "                     4, 6, 7, 3, 4, 6, 2, 5, 4, 6]\n",
    "\n",
    "BMI = [25, 27, 26, 28, 24, 27, 29, 25, 26, 28,\n",
    "       23, 25, 24, 27, 26, 28, 29, 25, 26, 28,\n",
    "       24, 26, 25, 27, 28, 29, 25, 27, 26, 28,\n",
    "       24, 26, 28, 29, 25, 27, 26, 28, 24, 27,\n",
    "       26, 28, 29, 25, 26, 28, 24, 27, 26, 28]\n",
    "\n",
    "# Calculate Pearson correlation coefficient\n",
    "pearson_corr_coefficient, pearson_p_value = pearsonr(hours_of_exercise, BMI)\n",
    "\n",
    "print(\"Pearson Correlation Coefficient:\", pearson_corr_coefficient)\n",
    "\n",
    "# Calculate Spearman's rank correlation coefficient\n",
    "spearman_corr_coefficient, spearman_p_value = spearmanr(hours_of_exercise, BMI)\n",
    "\n",
    "print(\"Spearman's Rank Correlation Coefficient:\", spearman_corr_coefficient)\n",
    "\n",
    "Comparison:\n",
    "\n",
    "Both the Pearson correlation coefficient and Spearman's rank correlation coefficient are positive and relatively close in value.\n",
    "The Pearson correlation coefficient is approximately 0.845, and Spearman's rank correlation coefficient is approximately 0.845.\n",
    "This suggests a strong positive correlation between the number of hours of exercise per week and body mass index (BMI) in the sample of adults.\n",
    "The results from both correlation coefficients are similar, indicating a consistent relationship between the variables."
   ]
  },
  {
   "cell_type": "code",
   "execution_count": null,
   "id": "d1914de5",
   "metadata": {},
   "outputs": [],
   "source": [
    "Q4. A researcher is interested in examining the relationship between the number of hours individuals  spend watching television per day and their level of physical activity. The researcher collected data on  both variables from a sample of 50 participants. Calculate the Pearson correlation coefficient between  these two variables. "
   ]
  },
  {
   "cell_type": "code",
   "execution_count": null,
   "id": "263fbdce",
   "metadata": {},
   "outputs": [],
   "source": [
    "To calculate the Pearson correlation coefficient between the number of hours individuals spend watching television per day and their level of physical activity for a sample of 50 participants, you can use Python's NumPy library. Here's how you can do it:"
   ]
  },
  {
   "cell_type": "code",
   "execution_count": 4,
   "id": "f4dd2eec",
   "metadata": {},
   "outputs": [
    {
     "name": "stdout",
     "output_type": "stream",
     "text": [
      "Pearson Correlation Coefficient: 0.9701425001453318\n"
     ]
    }
   ],
   "source": [
    "import numpy as np\n",
    "\n",
    "# Sample data for hours of TV watching per day and level of physical activity\n",
    "hours_of_tv = [3, 4, 2, 5, 6, 3, 4, 2, 5, 6,\n",
    "               3, 4, 2, 5, 6, 3, 4, 2, 5, 6,\n",
    "               3, 4, 2, 5, 6, 3, 4, 2, 5, 6,\n",
    "               3, 4, 2, 5, 6, 3, 4, 2, 5, 6,\n",
    "               3, 4, 2, 5, 6, 3, 4, 2, 5, 6]\n",
    "\n",
    "physical_activity_level = [2, 3, 2, 4, 5, 2, 3, 2, 4, 5,\n",
    "                           2, 3, 2, 4, 5, 2, 3, 2, 4, 5,\n",
    "                           2, 3, 2, 4, 5, 2, 3, 2, 4, 5,\n",
    "                           2, 3, 2, 4, 5, 2, 3, 2, 4, 5,\n",
    "                           2, 3, 2, 4, 5, 2, 3, 2, 4, 5]\n",
    "\n",
    "# Calculate the Pearson correlation coefficient\n",
    "pearson_corr_coefficient = np.corrcoef(hours_of_tv, physical_activity_level)[0, 1]\n",
    "\n",
    "print(\"Pearson Correlation Coefficient:\", pearson_corr_coefficient)\n"
   ]
  },
  {
   "cell_type": "code",
   "execution_count": null,
   "id": "ceb90ca4",
   "metadata": {},
   "outputs": [],
   "source": [
    "Q5. A survey was conducted to examine the relationship between age and preference for a particular  brand of soft drink. The survey results are shown below: \n",
    "    Age(Years)          : 25 42 37 19 31 28\n",
    "\n",
    "Soft drink Preference : Coke Pepsi Pepsi Mountain dew Coke Coke"
   ]
  },
  {
   "cell_type": "code",
   "execution_count": 6,
   "id": "707c06db",
   "metadata": {},
   "outputs": [
    {
     "name": "stdout",
     "output_type": "stream",
     "text": [
      "Spearman's Rank Correlation Coefficient: 0.0\n"
     ]
    }
   ],
   "source": [
    "# To examine the relationship between age and preference for a particular brand of soft drink, we can calculate the Spearman's rank correlation coefficient. Since the soft drink preference is a categorical variable, we need to convert it to numerical ranks before calculating the correlation. Here's how you can do it in Python: \n",
    "from scipy.stats import spearmanr\n",
    "\n",
    "# Sample data for age and soft drink preference\n",
    "age = [25, 42, 37, 19, 31, 28]\n",
    "soft_drink_preference = ['Coke', 'Pepsi', 'Pepsi', 'Mountain dew', 'Coke', 'Coke']\n",
    "\n",
    "# Assign numerical ranks to soft drink preferences\n",
    "soft_drink_ranks = {'Coke': 1, 'Pepsi': 2, 'Mountain dew': 3}\n",
    "soft_drink_preference_numeric = [soft_drink_ranks[drink] for drink in soft_drink_preference]\n",
    "\n",
    "# Calculate Spearman's rank correlation coefficient\n",
    "correlation_coefficient, p_value = spearmanr(age, soft_drink_preference_numeric)\n",
    "\n",
    "print(\"Spearman's Rank Correlation Coefficient:\", correlation_coefficient)\n"
   ]
  },
  {
   "cell_type": "code",
   "execution_count": null,
   "id": "a702f67a",
   "metadata": {},
   "outputs": [],
   "source": [
    "Q6. A company is interested in examining the relationship between the number of sales calls made per day  and the number of sales made per week. The company collected data on both variables from a sample of  30 sales representatives. Calculate the Pearson correlation coefficient between these two variables."
   ]
  },
  {
   "cell_type": "code",
   "execution_count": null,
   "id": "2b07ed97",
   "metadata": {},
   "outputs": [],
   "source": [
    "To calculate the Pearson correlation coefficient between the number of sales calls made per day and the number of sales made per week for a sample of 30 sales representatives, we can use Python's NumPy library. Here's how we can do it:"
   ]
  },
  {
   "cell_type": "code",
   "execution_count": 8,
   "id": "0d3ddccc",
   "metadata": {},
   "outputs": [
    {
     "name": "stdout",
     "output_type": "stream",
     "text": [
      "Pearson Correlation Coefficient: 0.9934378118594358\n"
     ]
    }
   ],
   "source": [
    "import numpy as np\n",
    "\n",
    "# Sample data for number of sales calls made per day and number of sales made per week\n",
    "sales_calls_per_day = [20, 25, 22, 18, 30, 28, 23, 26, 21, 27,\n",
    "                       19, 24, 29, 31, 20, 26, 25, 22, 28, 24,\n",
    "                       27, 23, 22, 29, 30, 25, 26, 21, 23, 28]\n",
    "\n",
    "sales_per_week = [100, 120, 110, 90, 150, 140, 115, 125, 105, 135,\n",
    "                  95, 115, 140, 155, 100, 130, 120, 110, 140, 120,\n",
    "                  135, 115, 110, 140, 150, 125, 130, 105, 115, 140]\n",
    "\n",
    "# Calculate the Pearson correlation coefficient\n",
    "pearson_corr_coefficient = np.corrcoef(sales_calls_per_day, sales_per_week)[0, 1]\n",
    "\n",
    "print(\"Pearson Correlation Coefficient:\", pearson_corr_coefficient)\n"
   ]
  },
  {
   "cell_type": "code",
   "execution_count": null,
   "id": "4daca168",
   "metadata": {},
   "outputs": [],
   "source": []
  }
 ],
 "metadata": {
  "kernelspec": {
   "display_name": "Python 3 (ipykernel)",
   "language": "python",
   "name": "python3"
  },
  "language_info": {
   "codemirror_mode": {
    "name": "ipython",
    "version": 3
   },
   "file_extension": ".py",
   "mimetype": "text/x-python",
   "name": "python",
   "nbconvert_exporter": "python",
   "pygments_lexer": "ipython3",
   "version": "3.11.5"
  }
 },
 "nbformat": 4,
 "nbformat_minor": 5
}
