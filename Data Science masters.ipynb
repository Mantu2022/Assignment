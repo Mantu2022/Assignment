{
 "cells": [
  {
   "cell_type": "markdown",
   "id": "9e9981b4",
   "metadata": {},
   "source": [
    "# Q1. What is an API? Give an example, where an API is used in real life."
   ]
  },
  {
   "cell_type": "code",
   "execution_count": null,
   "id": "5cb15ca5",
   "metadata": {},
   "outputs": [],
   "source": [
    "APIs are mechanisms that enable two software components to communicate with each other using a set of definitions and protocols.\n",
    "API are used in rideshare app, mobile payment app, even in phone."
   ]
  },
  {
   "cell_type": "markdown",
   "id": "c2a0015a",
   "metadata": {},
   "source": [
    "# Q2. Give advantages and disadvantages of using API."
   ]
  },
  {
   "cell_type": "code",
   "execution_count": null,
   "id": "0c4770f5",
   "metadata": {},
   "outputs": [],
   "source": [
    "Main Advantages are:-\n",
    "1. Applications: Access to APIs ensures more flexibility in information-transfer processes.\n",
    "Reach: APIs let you create layers in apps in order to distribute information to different audiences.\n",
    "2. Customization: Furthermore, it can serve as a solution to create different experiences for users, letting protocols, functions, and commands be adapted according to specific demands.\n",
    "3. Efficiency: When you have content that is automatically published and made available on different channels simultaneously, APIs allow for more efficient data distribution.\n",
    "4. Adaptability: One of the greatest benefits of APIs is the ability it has to adapt to changes through data migration and flexibility of services.\n",
    "Main Disadvantages are:-\n",
    "As a single point of entry, an API is a gateway and can become a hacker's primary target. Once the API is compromised, all other applications and systems become vulnerable.\n"
   ]
  },
  {
   "cell_type": "code",
   "execution_count": 3,
   "id": "ce613a6c",
   "metadata": {},
   "outputs": [],
   "source": [
    "# Q3. What is a Web API? Differentiate between API and Web API."
   ]
  },
  {
   "cell_type": "code",
   "execution_count": null,
   "id": "40d8cacf",
   "metadata": {},
   "outputs": [],
   "source": [
    "A Web API is an application programming interface for the Web. A Browser API can extend the functionality of a web browser. A Server API can extend the functionality of a web server.\n",
    "API is an interface that exposes an application's data to outside software, whereas web applications are one type of API with stricter requirements."
   ]
  },
  {
   "cell_type": "markdown",
   "id": "dcc714e2",
   "metadata": {},
   "source": [
    "# Q4. Explain REST and SOAP Architecture. Mention shortcomings of SOAP."
   ]
  },
  {
   "cell_type": "code",
   "execution_count": null,
   "id": "750f439f",
   "metadata": {},
   "outputs": [],
   "source": [
    "A REST API is an application programming interface that conforms to the constraints of REST architecture.\n",
    "It is an interface that two computer systems use to exchange information securely over the internet.\n",
    "\n",
    "Simple Object Access Protocol (SOAP) is a lightweight XML-based protocol that is used for the exchange of information in decentralized, distributed application environments.\n",
    "Since SOAP is a protocol, it follows a strict standard to allow communication between the client and the server whereas REST is an architectural style that doesn’t follow any strict standard but follows constrainsts. Those constraints are – Uniform Interface, Client-Server, Stateless, Cacheable, Layered System, Code on Demand.\n",
    "\n",
    "The following are the shortcpmings of SOAP.\n",
    "\n",
    "1. Slow : SOAP uses the XML format which needs to be parsed and is lengthier too which makes SOAP slower than CORBA, RMI or IIOP.\n",
    "2. WSDL Dependence : It depends on WSDL and does not have any standardized mechanism for dynamic discovery of the services.\n"
   ]
  },
  {
   "cell_type": "markdown",
   "id": "5484e9e5",
   "metadata": {},
   "source": [
    "# Q5. Differentiate between REST and SOAP."
   ]
  },
  {
   "cell_type": "code",
   "execution_count": null,
   "id": "bfb166b5",
   "metadata": {},
   "outputs": [],
   "source": [
    "1. SOAP stands for Simple Object Access Protocol and REST stands for Representational State Transfer.\n",
    "2. SOAP uses only XML for exchanging information in its message format whereas REST is not restricted to XML and its the choice of implementer which Media-Type to use like XML, JSON, Plain-text. Moreover, REST can use SOAP protocol but SOAP cannot use REST.\n",
    "3. SOAP is difficult to implement and it requires more bandwidth whereas REST is easy to implement and requires less bandwidth such as smartphones.\n",
    "4. On the basis of Security, SOAP has SSL( Secure Socket Layer) and WS-security whereas REST has SSL and HTTPS. In the case of Bank Account Password, Card Number, etc. SOAP is preferred over REST. \n",
    "The security issue is all about your application requirement, you have to build security on your own. It’s about what type of protocol you use.\n",
    "5. SOAP cannot make use of REST since SOAP is a protocol without any architectural pattern. \n",
    "REST can make use of SOAP because it is an architectural pattern having protocol."
   ]
  }
 ],
 "metadata": {
  "kernelspec": {
   "display_name": "Python 3 (ipykernel)",
   "language": "python",
   "name": "python3"
  },
  "language_info": {
   "codemirror_mode": {
    "name": "ipython",
    "version": 3
   },
   "file_extension": ".py",
   "mimetype": "text/x-python",
   "name": "python",
   "nbconvert_exporter": "python",
   "pygments_lexer": "ipython3",
   "version": "3.9.7"
  }
 },
 "nbformat": 4,
 "nbformat_minor": 5
}
