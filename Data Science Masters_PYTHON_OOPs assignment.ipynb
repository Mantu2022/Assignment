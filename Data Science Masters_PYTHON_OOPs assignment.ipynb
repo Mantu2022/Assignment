{
 "cells": [
  {
   "cell_type": "code",
   "execution_count": null,
   "id": "ec966c86",
   "metadata": {},
   "outputs": [],
   "source": [
    "Q1. Which function is used to open a file? What are the different modes of opening a file? Explain each mode\n",
    "of file opening."
   ]
  },
  {
   "cell_type": "code",
   "execution_count": null,
   "id": "da4b9965",
   "metadata": {},
   "outputs": [],
   "source": [
    "The open() function is used to open a file. It takes the file name as the first argument and returns a file object that can be used to read from or write to the file.\n",
    "\n",
    "The open() function has a second optional argument called the \"mode\" parameter, which specifies the purpose and permissions for opening the file. The mode parameter determines whether the file is opened for reading, writing, or both, and it also controls the file's behavior when it already exists or doesn't exist.\n",
    "Here are the different modes of opening a file in Python:\n",
    "1. \"r\" (Read mode): This is the default mode when no mode is specified. It opens the file for reading. \n",
    "2. \"w\" (Write mode): It opens the file for writing. If the file doesn't exist, it creates a new file. If the file already exists, it truncates the file to zero length (erases the contents) before writing.\n",
    "3. \"a\" (Append mode): It opens the file for appending.\n",
    "4. \"t\" (Text mode): This is the default mode when no mode is specified. \n",
    "5. \"b\" (Binary mode): It opens the file in binary mode, allowing you to read or write binary data. This mode is used when working with non-text files, such as images or audio files.\n",
    "6. \"+\" (Update mode): It opens the file for both reading and writing. This mode allows you to perform both read and write operations"
   ]
  },
  {
   "cell_type": "code",
   "execution_count": null,
   "id": "699ac073",
   "metadata": {},
   "outputs": [],
   "source": [
    "Q2. Why close() function is used? Why is it important to close a file?"
   ]
  },
  {
   "cell_type": "code",
   "execution_count": null,
   "id": "25f58185",
   "metadata": {},
   "outputs": [],
   "source": [
    "The close() function is used to close a file that has been opened using the open() function in Python. It is important to close a file after you have finished working with it.\n",
    "\n",
    "Here are some reasons why closing a file is important:\n",
    "\n",
    "1. Resource Management: When you open a file, the operating system allocates resources to maintain a connection with the file, such as memory buffers and file descriptors. If you don't close the file properly, these resources may not be released immediately, leading to inefficient resource utilization.\n",
    "\n",
    "2. Data Integrity: Closing a file ensures that any buffered data is properly written to the disk. When you write data to a file, it is often stored in memory buffers for efficiency. Closing the file flushes these buffers and ensures that all the data is written to the file. If you don't close the file, there is a risk of losing data that was not yet written to the disk.\n",
    "\n",
    "3. File Locking: On some operating systems, a file may be locked while it is open. This means that other processes or threads may be restricted from accessing or modifying the file. By closing the file, you release the lock and allow other processes to access the file if needed.\n",
    "\n",
    "4. System Limitations: Operating systems impose limits on the number of files that can be open simultaneously by a process. If you open too many files without closing them, you may reach the limit and be unable to open additional files until some are closed."
   ]
  },
  {
   "cell_type": "code",
   "execution_count": null,
   "id": "e43608d6",
   "metadata": {},
   "outputs": [],
   "source": [
    "Q3. Write a python program to create a text file. Write ‘I want to become a Data Scientist’ in that file. Then\n",
    "close the file. Open this file and read the content of the file."
   ]
  },
  {
   "cell_type": "code",
   "execution_count": 18,
   "id": "e50f58b9",
   "metadata": {},
   "outputs": [
    {
     "name": "stdout",
     "output_type": "stream",
     "text": [
      "I want to become a Data Scientist\n"
     ]
    }
   ],
   "source": [
    "\n",
    "file_name = \"Mantu.txt\"\n",
    "\n",
    "with open(file_name, \"w\") as file:\n",
    "    file.write(\"I want to become a Data Scientist\")\n",
    "\n",
    "with open(file_name, \"r\") as file:\n",
    "    content = file.read()\n",
    "\n",
    "print(content)\n"
   ]
  },
  {
   "cell_type": "code",
   "execution_count": null,
   "id": "cdce38b5",
   "metadata": {},
   "outputs": [],
   "source": [
    "Q4. Explain the following with python code: read(), readline() and readlines()."
   ]
  },
  {
   "cell_type": "code",
   "execution_count": 20,
   "id": "183e46b7",
   "metadata": {},
   "outputs": [
    {
     "name": "stdout",
     "output_type": "stream",
     "text": [
      "I want to become a Data Scientist\n"
     ]
    }
   ],
   "source": [
    " # The read(), readline(), and readlines() are methods that can be used to read data from a file. Here's an explanation of each method along with Python code examples:\n",
    "#1. read(): The read() method is used to read the entire contents of a file as a single string. It reads from the current position in the file and returns the entire contents.\n",
    "# Example using read()\n",
    "with open(\"Mantu.txt\", \"r\") as file:\n",
    "    content = file.read()\n",
    "    print(content)\n"
   ]
  },
  {
   "cell_type": "code",
   "execution_count": 22,
   "id": "ed71042a",
   "metadata": {},
   "outputs": [
    {
     "name": "stdout",
     "output_type": "stream",
     "text": [
      "I want to become a Data Scientist\n"
     ]
    }
   ],
   "source": [
    "# 2. readline(): The readline() method is used to read a single line from a file. It reads from the current position in the file and returns the line as a string, including the newline character at the end.\n",
    "# Example using readline()\n",
    "with open(\"Mantu.txt\", \"r\") as file:\n",
    "    line = file.readline()\n",
    "    print(line)\n"
   ]
  },
  {
   "cell_type": "code",
   "execution_count": 24,
   "id": "0191b455",
   "metadata": {},
   "outputs": [
    {
     "name": "stdout",
     "output_type": "stream",
     "text": [
      "I want to become a Data Scientist\n"
     ]
    }
   ],
   "source": [
    "# 3. Readlines(): The readlines() method is used to read all lines from a file and return them as a list of strings. Each element in the list represents a line from the file, including the newline characters.\n",
    "# Example using readlines()\n",
    "with open(\"Mantu.txt\", \"r\") as file:\n",
    "    lines = file.readlines()\n",
    "    for line in lines:\n",
    "        print(line)\n"
   ]
  },
  {
   "cell_type": "code",
   "execution_count": null,
   "id": "6e4fd7de",
   "metadata": {},
   "outputs": [],
   "source": [
    "Q5. Explain why with statement is used with open(). What is the advantage of using with statement and\n",
    "open() together?"
   ]
  },
  {
   "cell_type": "code",
   "execution_count": null,
   "id": "7307bb0a",
   "metadata": {},
   "outputs": [],
   "source": [
    "The with statement in Python is used in conjunction with the open() function to handle file I/O operations. It provides a clean and efficient way to open and work with files, ensuring that the file is properly closed after usage."
   ]
  },
  {
   "cell_type": "code",
   "execution_count": null,
   "id": "e924c312",
   "metadata": {},
   "outputs": [],
   "source": [
    "Q6. Explain the write() and writelines() functions. Give a suitable example."
   ]
  },
  {
   "cell_type": "code",
   "execution_count": 29,
   "id": "cd20e8d0",
   "metadata": {},
   "outputs": [],
   "source": [
    "# The write() and writelines() functions are used to write data to a file. Here's an explanation of each function along with a suitable example:\n",
    "# 1. write(): The write() function is used to write a string of characters to a file. It appends the given string to the file at the current position, or creates a new file if it doesn't exist. The syntax is as follows:\n",
    "\n",
    "with open(\"Mantu.txt\", \"w\") as file:\n",
    "    file.write(\"Hello, World!\\n\")\n",
    "    file.write(\"This is a sample file.\")\n",
    "    "
   ]
  },
  {
   "cell_type": "code",
   "execution_count": 32,
   "id": "b3680361",
   "metadata": {},
   "outputs": [],
   "source": [
    "# 2. writelines(): The writelines() function is used to write a sequence of strings to a file. It takes an iterable as input, such as a list or a generator, and writes each string element to the file. The syntax is as follows: \n",
    "\n",
    "lines = [\"First line\\n\", \"Second line\\n\", \"Third line\\n\"]\n",
    "\n",
    "with open(\"Mantu.txt\", \"w\") as file:\n",
    "    file.writelines(lines)\n"
   ]
  },
  {
   "cell_type": "code",
   "execution_count": null,
   "id": "aa6c3515",
   "metadata": {},
   "outputs": [],
   "source": []
  },
  {
   "cell_type": "code",
   "execution_count": null,
   "id": "a619adaf",
   "metadata": {},
   "outputs": [],
   "source": []
  }
 ],
 "metadata": {
  "kernelspec": {
   "display_name": "Python 3 (ipykernel)",
   "language": "python",
   "name": "python3"
  },
  "language_info": {
   "codemirror_mode": {
    "name": "ipython",
    "version": 3
   },
   "file_extension": ".py",
   "mimetype": "text/x-python",
   "name": "python",
   "nbconvert_exporter": "python",
   "pygments_lexer": "ipython3",
   "version": "3.9.7"
  }
 },
 "nbformat": 4,
 "nbformat_minor": 5
}
