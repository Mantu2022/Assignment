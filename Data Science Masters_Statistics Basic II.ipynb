{
 "cells": [
  {
   "cell_type": "code",
   "execution_count": null,
   "id": "d4af0eed",
   "metadata": {},
   "outputs": [],
   "source": [
    "Q1. What are the three measures of central tendency? "
   ]
  },
  {
   "cell_type": "code",
   "execution_count": null,
   "id": "632698d8",
   "metadata": {},
   "outputs": [],
   "source": [
    "There are three main measures of central tendency:\n",
    "mode.\n",
    "median.\n",
    "mean"
   ]
  },
  {
   "cell_type": "code",
   "execution_count": null,
   "id": "43d2ac02",
   "metadata": {},
   "outputs": [],
   "source": [
    "Q2. What is the difference between the mean, median, and mode? How are they used to measure the  central tendency of a dataset?"
   ]
  },
  {
   "cell_type": "code",
   "execution_count": null,
   "id": "362b2850",
   "metadata": {},
   "outputs": [],
   "source": [
    "Mode: the most frequent value.\n",
    "Median: the middle number in an ordered dataset.\n",
    "Mean: the sum of all values divided by the total number of values."
   ]
  },
  {
   "cell_type": "code",
   "execution_count": 21,
   "id": "cbaed3bb",
   "metadata": {},
   "outputs": [
    {
     "data": {
      "text/html": [
       "\n",
       "\n",
       "\n",
       "\n",
       "\n",
       "\n",
       "  <div class=\"bk-root\" id=\"75b8ce8b-7dbe-4f16-83ac-9a947d6da65e\" data-root-id=\"2878\"></div>\n"
      ]
     },
     "metadata": {},
     "output_type": "display_data"
    },
    {
     "data": {
      "application/javascript": [
       "(function(root) {\n",
       "  function embed_document(root) {\n",
       "    \n",
       "  const docs_json = {\"80f09436-44e9-46d8-ad42-9850893df25d\":{\"defs\":[],\"roots\":{\"references\":[{\"attributes\":{\"below\":[{\"id\":\"2889\"}],\"center\":[{\"id\":\"2892\"},{\"id\":\"2896\"}],\"left\":[{\"id\":\"2893\"}],\"renderers\":[{\"id\":\"2915\"}],\"title\":{\"id\":\"2879\"},\"toolbar\":{\"id\":\"2904\"},\"x_range\":{\"id\":\"2881\"},\"x_scale\":{\"id\":\"2885\"},\"y_range\":{\"id\":\"2883\"},\"y_scale\":{\"id\":\"2887\"}},\"id\":\"2878\",\"subtype\":\"Figure\",\"type\":\"Plot\"},{\"attributes\":{\"axis\":{\"id\":\"2889\"},\"coordinates\":null,\"group\":null,\"ticker\":null},\"id\":\"2892\",\"type\":\"Grid\"},{\"attributes\":{\"coordinates\":null,\"data_source\":{\"id\":\"2911\"},\"glyph\":{\"id\":\"2912\"},\"group\":null,\"hover_glyph\":null,\"muted_glyph\":{\"id\":\"2914\"},\"nonselection_glyph\":{\"id\":\"2913\"},\"view\":{\"id\":\"2916\"}},\"id\":\"2915\",\"type\":\"GlyphRenderer\"},{\"attributes\":{\"coordinates\":null,\"group\":null,\"text\":\"test flower\"},\"id\":\"2879\",\"type\":\"Title\"},{\"attributes\":{},\"id\":\"2994\",\"type\":\"UnionRenderers\"},{\"attributes\":{},\"id\":\"2995\",\"type\":\"Selection\"},{\"attributes\":{\"tools\":[{\"id\":\"2897\"},{\"id\":\"2898\"},{\"id\":\"2899\"},{\"id\":\"2900\"},{\"id\":\"2901\"},{\"id\":\"2902\"}]},\"id\":\"2904\",\"type\":\"Toolbar\"},{\"attributes\":{},\"id\":\"2894\",\"type\":\"BasicTicker\"},{\"attributes\":{\"source\":{\"id\":\"2911\"}},\"id\":\"2916\",\"type\":\"CDSView\"},{\"attributes\":{\"data\":{\"x\":{\"__ndarray__\":\"ZmZmZmZm9j9mZmZmZmb2P83MzMzMzPQ/AAAAAAAA+D9mZmZmZmb2PzMzMzMzM/s/ZmZmZmZm9j8AAAAAAAD4P2ZmZmZmZvY/AAAAAAAA+D8AAAAAAAD4P5qZmZmZmfk/ZmZmZmZm9j+amZmZmZnxPzMzMzMzM/M/AAAAAAAA+D/NzMzMzMz0P2ZmZmZmZvY/MzMzMzMz+z8AAAAAAAD4PzMzMzMzM/s/AAAAAAAA+D8AAAAAAADwPzMzMzMzM/s/ZmZmZmZm/j+amZmZmZn5P5qZmZmZmfk/AAAAAAAA+D9mZmZmZmb2P5qZmZmZmfk/mpmZmZmZ+T8AAAAAAAD4PwAAAAAAAPg/ZmZmZmZm9j8AAAAAAAD4PzMzMzMzM/M/zczMzMzM9D9mZmZmZmb2P83MzMzMzPQ/AAAAAAAA+D/NzMzMzMz0P83MzMzMzPQ/zczMzMzM9D+amZmZmZn5P2ZmZmZmZv4/ZmZmZmZm9j+amZmZmZn5P2ZmZmZmZvY/AAAAAAAA+D9mZmZmZmb2P83MzMzMzBJAAAAAAAAAEkCamZmZmZkTQAAAAAAAABBAZmZmZmZmEkAAAAAAAAASQM3MzMzMzBJAZmZmZmZmCkBmZmZmZmYSQDMzMzMzMw9AAAAAAAAADEDNzMzMzMwQQAAAAAAAABBAzczMzMzMEkDNzMzMzMwMQJqZmZmZmRFAAAAAAAAAEkBmZmZmZmYQQAAAAAAAABJAMzMzMzMzD0AzMzMzMzMTQAAAAAAAABBAmpmZmZmZE0DNzMzMzMwSQDMzMzMzMxFAmpmZmZmZEUAzMzMzMzMTQAAAAAAAABRAAAAAAAAAEkAAAAAAAAAMQGZmZmZmZg5AmpmZmZmZDUAzMzMzMzMPQGZmZmZmZhRAAAAAAAAAEkAAAAAAAAASQM3MzMzMzBJAmpmZmZmZEUBmZmZmZmYQQAAAAAAAABBAmpmZmZmZEUBmZmZmZmYSQAAAAAAAABBAZmZmZmZmCkDNzMzMzMwQQM3MzMzMzBBAzczMzMzMEEAzMzMzMzMRQAAAAAAAAAhAZmZmZmZmEEAAAAAAAAAYQGZmZmZmZhRAmpmZmZmZF0BmZmZmZmYWQDMzMzMzMxdAZmZmZmZmGkAAAAAAAAASQDMzMzMzMxlAMzMzMzMzF0BmZmZmZmYYQGZmZmZmZhRAMzMzMzMzFUAAAAAAAAAWQAAAAAAAABRAZmZmZmZmFEAzMzMzMzMVQAAAAAAAABZAzczMzMzMGkCamZmZmZkbQAAAAAAAABRAzczMzMzMFkCamZmZmZkTQM3MzMzMzBpAmpmZmZmZE0DNzMzMzMwWQAAAAAAAABhAMzMzMzMzE0CamZmZmZkTQGZmZmZmZhZAMzMzMzMzF0BmZmZmZmYYQJqZmZmZmRlAZmZmZmZmFkBmZmZmZmYUQGZmZmZmZhZAZmZmZmZmGEBmZmZmZmYWQAAAAAAAABZAMzMzMzMzE0CamZmZmZkVQGZmZmZmZhZAZmZmZmZmFEBmZmZmZmYUQJqZmZmZmRdAzczMzMzMFkDNzMzMzMwUQAAAAAAAABRAzczMzMzMFECamZmZmZkVQGZmZmZmZhRA\",\"dtype\":\"float64\",\"order\":\"little\",\"shape\":[150]},\"y\":{\"__ndarray__\":\"mpmZmZmZyT+amZmZmZnJP5qZmZmZmck/mpmZmZmZyT+amZmZmZnJP5qZmZmZmdk/MzMzMzMz0z+amZmZmZnJP5qZmZmZmck/mpmZmZmZuT+amZmZmZnJP5qZmZmZmck/mpmZmZmZuT+amZmZmZm5P5qZmZmZmck/mpmZmZmZ2T+amZmZmZnZPzMzMzMzM9M/MzMzMzMz0z8zMzMzMzPTP5qZmZmZmck/mpmZmZmZ2T+amZmZmZnJPwAAAAAAAOA/mpmZmZmZyT+amZmZmZnJP5qZmZmZmdk/mpmZmZmZyT+amZmZmZnJP5qZmZmZmck/mpmZmZmZyT+amZmZmZnZP5qZmZmZmbk/mpmZmZmZyT+amZmZmZnJP5qZmZmZmck/mpmZmZmZyT+amZmZmZm5P5qZmZmZmck/mpmZmZmZyT8zMzMzMzPTPzMzMzMzM9M/mpmZmZmZyT8zMzMzMzPjP5qZmZmZmdk/MzMzMzMz0z+amZmZmZnJP5qZmZmZmck/mpmZmZmZyT+amZmZmZnJP2ZmZmZmZvY/AAAAAAAA+D8AAAAAAAD4P83MzMzMzPQ/AAAAAAAA+D/NzMzMzMz0P5qZmZmZmfk/AAAAAAAA8D/NzMzMzMz0P2ZmZmZmZvY/AAAAAAAA8D8AAAAAAAD4PwAAAAAAAPA/ZmZmZmZm9j/NzMzMzMz0P2ZmZmZmZvY/AAAAAAAA+D8AAAAAAADwPwAAAAAAAPg/mpmZmZmZ8T/NzMzMzMz8P83MzMzMzPQ/AAAAAAAA+D8zMzMzMzPzP83MzMzMzPQ/ZmZmZmZm9j9mZmZmZmb2PzMzMzMzM/s/AAAAAAAA+D8AAAAAAADwP5qZmZmZmfE/AAAAAAAA8D8zMzMzMzPzP5qZmZmZmfk/AAAAAAAA+D+amZmZmZn5PwAAAAAAAPg/zczMzMzM9D/NzMzMzMz0P83MzMzMzPQ/MzMzMzMz8z9mZmZmZmb2PzMzMzMzM/M/AAAAAAAA8D/NzMzMzMz0PzMzMzMzM/M/zczMzMzM9D/NzMzMzMz0P5qZmZmZmfE/zczMzMzM9D8AAAAAAAAEQGZmZmZmZv4/zczMzMzMAEDNzMzMzMz8P5qZmZmZmQFAzczMzMzMAEAzMzMzMzP7P83MzMzMzPw/zczMzMzM/D8AAAAAAAAEQAAAAAAAAABAZmZmZmZm/j/NzMzMzMwAQAAAAAAAAABAMzMzMzMzA0BmZmZmZmYCQM3MzMzMzPw/mpmZmZmZAUBmZmZmZmYCQAAAAAAAAPg/ZmZmZmZmAkAAAAAAAAAAQAAAAAAAAABAzczMzMzM/D/NzMzMzMwAQM3MzMzMzPw/zczMzMzM/D/NzMzMzMz8P83MzMzMzABAmpmZmZmZ+T9mZmZmZmb+PwAAAAAAAABAmpmZmZmZAUAAAAAAAAD4P2ZmZmZmZvY/ZmZmZmZmAkAzMzMzMzMDQM3MzMzMzPw/zczMzMzM/D/NzMzMzMwAQDMzMzMzMwNAZmZmZmZmAkBmZmZmZmb+P2ZmZmZmZgJAAAAAAAAABEBmZmZmZmYCQGZmZmZmZv4/AAAAAAAAAEBmZmZmZmYCQM3MzMzMzPw/\",\"dtype\":\"float64\",\"order\":\"little\",\"shape\":[150]}},\"selected\":{\"id\":\"2995\"},\"selection_policy\":{\"id\":\"2994\"}},\"id\":\"2911\",\"type\":\"ColumnDataSource\"},{\"attributes\":{},\"id\":\"2902\",\"type\":\"HelpTool\"},{\"attributes\":{},\"id\":\"2887\",\"type\":\"LinearScale\"},{\"attributes\":{},\"id\":\"2890\",\"type\":\"BasicTicker\"},{\"attributes\":{},\"id\":\"2992\",\"type\":\"BasicTickFormatter\"},{\"attributes\":{},\"id\":\"2898\",\"type\":\"WheelZoomTool\"},{\"attributes\":{\"bottom_units\":\"screen\",\"coordinates\":null,\"fill_alpha\":0.5,\"fill_color\":\"lightgrey\",\"group\":null,\"left_units\":\"screen\",\"level\":\"overlay\",\"line_alpha\":1.0,\"line_color\":\"black\",\"line_dash\":[4,4],\"line_width\":2,\"right_units\":\"screen\",\"syncable\":false,\"top_units\":\"screen\"},\"id\":\"2903\",\"type\":\"BoxAnnotation\"},{\"attributes\":{\"axis\":{\"id\":\"2893\"},\"coordinates\":null,\"dimension\":1,\"group\":null,\"ticker\":null},\"id\":\"2896\",\"type\":\"Grid\"},{\"attributes\":{\"overlay\":{\"id\":\"2903\"}},\"id\":\"2899\",\"type\":\"BoxZoomTool\"},{\"attributes\":{},\"id\":\"2900\",\"type\":\"SaveTool\"},{\"attributes\":{\"fill_color\":{\"value\":\"#1f77b4\"},\"line_color\":{\"value\":\"#1f77b4\"},\"x\":{\"field\":\"x\"},\"y\":{\"field\":\"y\"}},\"id\":\"2912\",\"type\":\"Circle\"},{\"attributes\":{},\"id\":\"2990\",\"type\":\"AllLabels\"},{\"attributes\":{},\"id\":\"2989\",\"type\":\"BasicTickFormatter\"},{\"attributes\":{\"fill_alpha\":{\"value\":0.1},\"fill_color\":{\"value\":\"#1f77b4\"},\"hatch_alpha\":{\"value\":0.1},\"line_alpha\":{\"value\":0.1},\"line_color\":{\"value\":\"#1f77b4\"},\"x\":{\"field\":\"x\"},\"y\":{\"field\":\"y\"}},\"id\":\"2913\",\"type\":\"Circle\"},{\"attributes\":{},\"id\":\"2883\",\"type\":\"DataRange1d\"},{\"attributes\":{},\"id\":\"2901\",\"type\":\"ResetTool\"},{\"attributes\":{},\"id\":\"2993\",\"type\":\"AllLabels\"},{\"attributes\":{\"axis_label\":\"petal_width\",\"coordinates\":null,\"formatter\":{\"id\":\"2989\"},\"group\":null,\"major_label_policy\":{\"id\":\"2990\"},\"ticker\":{\"id\":\"2894\"}},\"id\":\"2893\",\"type\":\"LinearAxis\"},{\"attributes\":{\"fill_alpha\":{\"value\":0.2},\"fill_color\":{\"value\":\"#1f77b4\"},\"hatch_alpha\":{\"value\":0.2},\"line_alpha\":{\"value\":0.2},\"line_color\":{\"value\":\"#1f77b4\"},\"x\":{\"field\":\"x\"},\"y\":{\"field\":\"y\"}},\"id\":\"2914\",\"type\":\"Circle\"},{\"attributes\":{},\"id\":\"2897\",\"type\":\"PanTool\"},{\"attributes\":{},\"id\":\"2881\",\"type\":\"DataRange1d\"},{\"attributes\":{\"axis_label\":\"petal_length\",\"coordinates\":null,\"formatter\":{\"id\":\"2992\"},\"group\":null,\"major_label_policy\":{\"id\":\"2993\"},\"ticker\":{\"id\":\"2890\"}},\"id\":\"2889\",\"type\":\"LinearAxis\"},{\"attributes\":{},\"id\":\"2885\",\"type\":\"LinearScale\"}],\"root_ids\":[\"2878\"]},\"title\":\"Bokeh Application\",\"version\":\"2.4.1\"}};\n",
       "  const render_items = [{\"docid\":\"80f09436-44e9-46d8-ad42-9850893df25d\",\"root_ids\":[\"2878\"],\"roots\":{\"2878\":\"75b8ce8b-7dbe-4f16-83ac-9a947d6da65e\"}}];\n",
       "  root.Bokeh.embed.embed_items_notebook(docs_json, render_items);\n",
       "\n",
       "  }\n",
       "  if (root.Bokeh !== undefined) {\n",
       "    embed_document(root);\n",
       "  } else {\n",
       "    let attempts = 0;\n",
       "    const timer = setInterval(function(root) {\n",
       "      if (root.Bokeh !== undefined) {\n",
       "        clearInterval(timer);\n",
       "        embed_document(root);\n",
       "      } else {\n",
       "        attempts++;\n",
       "        if (attempts > 100) {\n",
       "          clearInterval(timer);\n",
       "          console.log(\"Bokeh: ERROR: Unable to run BokehJS code because BokehJS library is missing\");\n",
       "        }\n",
       "      }\n",
       "    }, 10, root)\n",
       "  }\n",
       "})(window);"
      ],
      "application/vnd.bokehjs_exec.v0+json": ""
     },
     "metadata": {
      "application/vnd.bokehjs_exec.v0+json": {
       "id": "2878"
      }
     },
     "output_type": "display_data"
    }
   ],
   "source": [
    "Q3. Measure the three measures of central tendency for the given height data: [178,177,176,177,178.2,178,175,179,180,175,178.9,176.2,177,172.5,178,176.5]"
   ]
  },
  {
   "cell_type": "code",
   "execution_count": 1,
   "id": "a24ece88",
   "metadata": {},
   "outputs": [
    {
     "data": {
      "text/plain": [
       "177.01875"
      ]
     },
     "execution_count": 1,
     "metadata": {},
     "output_type": "execute_result"
    }
   ],
   "source": [
    "import numpy\n",
    "Height = [178,177,176,177,178.2,178,175,179,180,175,178.9,176.2,177,172.5,178,176.5]\n",
    "x = numpy.mean(Height)\n",
    "x"
   ]
  },
  {
   "cell_type": "code",
   "execution_count": 3,
   "id": "e13ff509",
   "metadata": {},
   "outputs": [
    {
     "data": {
      "text/plain": [
       "177.0"
      ]
     },
     "execution_count": 3,
     "metadata": {},
     "output_type": "execute_result"
    }
   ],
   "source": [
    "x = numpy.median(Height)\n",
    "x"
   ]
  },
  {
   "cell_type": "code",
   "execution_count": 5,
   "id": "d00ed0c9",
   "metadata": {},
   "outputs": [
    {
     "data": {
      "text/plain": [
       "ModeResult(mode=array([177.]), count=array([3]))"
      ]
     },
     "execution_count": 5,
     "metadata": {},
     "output_type": "execute_result"
    }
   ],
   "source": [
    "from scipy import stats\n",
    "Height = [178,177,176,177,178.2,178,175,179,180,175,178.9,176.2,177,172.5,178,176.5]\n",
    "x = stats.mode(Height)\n",
    "x"
   ]
  },
  {
   "cell_type": "code",
   "execution_count": null,
   "id": "a653037d",
   "metadata": {},
   "outputs": [],
   "source": [
    "Q4. Find the standard deviation for the given data: [178,177,176,177,178.2,178,175,179,180,175,178.9,176.2,177,172.5,178,176.5]"
   ]
  },
  {
   "cell_type": "code",
   "execution_count": 6,
   "id": "768532ff",
   "metadata": {},
   "outputs": [
    {
     "data": {
      "text/plain": [
       "1.7885814036548633"
      ]
     },
     "execution_count": 6,
     "metadata": {},
     "output_type": "execute_result"
    }
   ],
   "source": [
    "import numpy\n",
    "Data = [178,177,176,177,178.2,178,175,179,180,175,178.9,176.2,177,172.5,178,176.5]\n",
    "x = numpy.std(Data)\n",
    "x"
   ]
  },
  {
   "cell_type": "code",
   "execution_count": null,
   "id": "587ecae9",
   "metadata": {},
   "outputs": [],
   "source": [
    "Q5. How are measures of dispersion such as range, variance, and standard deviation used to describe  the spread of a dataset? Provide an example. "
   ]
  },
  {
   "cell_type": "code",
   "execution_count": null,
   "id": "3a07e304",
   "metadata": {},
   "outputs": [],
   "source": [
    "Range - The range is the easiest dispersion of data or measure of variability. The range can measure by subtracting the lowest value from the massive Number. The wide range indicates high variability, and the small range specifies low variability in the distribution. To calculate a range, prepare all the values in ascending order, then subtract the lowest value from the highest value.\n",
    "Range = Highest_value  – Lowest_value\n",
    "Student id 1  2  3  4  5\n",
    "Marks      60 33 19 25 28\n",
    "19 25 28 33 60\n",
    "Range = H-L = 60-19 = 41\n",
    "Variance - Variance is a simple measure of dispersion. Variance measures how far each number in the dataset from the mean. To compute variance first, calculate the mean and squared deviations from a mean.\n",
    "Mean = 5+7+9+3/4=6\n",
    "Variance=(5-6)²+(7-6)²+(9-6)²+(3-6)²/4=1+1+9+9/4=5\n",
    "Standard Deviation - Standard deviation is a squared root of the variance to get original values. Low standard deviation indicates data points close to mean."
   ]
  },
  {
   "cell_type": "code",
   "execution_count": null,
   "id": "cddebf74",
   "metadata": {},
   "outputs": [],
   "source": [
    "Q6. What is a Venn diagram? "
   ]
  },
  {
   "cell_type": "code",
   "execution_count": null,
   "id": "30750d43",
   "metadata": {},
   "outputs": [],
   "source": [
    "A Venn diagram is an illustration that uses circles to show the relationships among things or finite groups of things. Circles that overlap have a commonality while circles that do not overlap do not share those traits.\n",
    "A Venn diagram uses circles that overlap or don't overlap to show the commonalities and differences among things or groups of things.\n",
    "Things that have commonalities are shown as overlapping circles while things that are distinct stand alone.\n",
    "Venn diagrams are now used as illustrations in business and in many academic fields."
   ]
  },
  {
   "cell_type": "code",
   "execution_count": null,
   "id": "ab9af49e",
   "metadata": {},
   "outputs": [],
   "source": [
    "Q7. For the two given sets A = (2,3,4,5,6,7) & B = (0,2,6,8,10). Find: \n",
    "(i)  A B \n",
    "(ii) A ⋃ B "
   ]
  },
  {
   "cell_type": "code",
   "execution_count": null,
   "id": "82cdf05d",
   "metadata": {},
   "outputs": [],
   "source": [
    "A = (2,3,4,5,6,7) & B = (0,2,6,8,10)\n",
    "A ⋃ B = (0,2,3,4,5,6,7,8,10)"
   ]
  },
  {
   "cell_type": "code",
   "execution_count": null,
   "id": "1fb97031",
   "metadata": {},
   "outputs": [],
   "source": [
    "Q8. What do you understand about skewness in data?"
   ]
  },
  {
   "cell_type": "code",
   "execution_count": null,
   "id": "4ef193fb",
   "metadata": {},
   "outputs": [],
   "source": [
    "Skewness is a measurement of the distortion of symmetrical distribution or asymmetry in a data set. Skewness is demonstrated on a bell curve when data points are not distributed symmetrically to the left and right sides of the median on a bell curve."
   ]
  },
  {
   "cell_type": "code",
   "execution_count": null,
   "id": "76928d31",
   "metadata": {},
   "outputs": [],
   "source": [
    "Q9. If a data is right skewed then what will be the position of median with respect to mean? "
   ]
  },
  {
   "cell_type": "code",
   "execution_count": null,
   "id": "97c23d5d",
   "metadata": {},
   "outputs": [],
   "source": [
    "The mean of positively skewed data will be greater than the median."
   ]
  },
  {
   "cell_type": "code",
   "execution_count": null,
   "id": "e07641e3",
   "metadata": {},
   "outputs": [],
   "source": [
    "Q10. Explain the difference between covariance and correlation. How are these measures used in  statistical analysis? "
   ]
  },
  {
   "cell_type": "code",
   "execution_count": null,
   "id": "58079f29",
   "metadata": {},
   "outputs": [],
   "source": [
    "Covariance - Covariance is an indicator of the extent to which 2 random variables are dependent on each other. A higher number denotes higher dependency. The value of covariance lies in the range of -∞ and +∞. Affects covariance\n",
    "Correlation - Correlation is a statistical measure that indicates how strongly two variables are related. Correlation is limited to values between the range -1 and +1. Does not affect the correlation."
   ]
  },
  {
   "cell_type": "code",
   "execution_count": null,
   "id": "6d563668",
   "metadata": {},
   "outputs": [],
   "source": [
    "Q11. What is the formula for calculating the sample mean? Provide an example calculation for a  dataset. "
   ]
  },
  {
   "cell_type": "code",
   "execution_count": null,
   "id": "f179b89a",
   "metadata": {},
   "outputs": [],
   "source": [
    "The sample mean formula is used to calculate the average value of the given sample data. \n",
    "Example : The sample mean of 60, 57, 109, 50.\n",
    "Sum of terms = 60 + 57 + 109 + 50 = 276\n",
    "Number of terms = 4\n",
    "Using sample mean formula,\n",
    "mean = (sum of terms)/(number of terms)\n",
    "mean = 276/4 = 69"
   ]
  },
  {
   "cell_type": "code",
   "execution_count": null,
   "id": "afc2725e",
   "metadata": {},
   "outputs": [],
   "source": [
    "Q12. For a normal distribution data what is the relationship between its measure of central tendency?"
   ]
  },
  {
   "cell_type": "code",
   "execution_count": null,
   "id": "4840f796",
   "metadata": {},
   "outputs": [],
   "source": [
    "Any normal distribution has a graph that is perfectly symmetric about a vertical line through its peak. Therefore, all measures of central tendency (most commonly, the mean, median, and mode) are equal."
   ]
  },
  {
   "cell_type": "code",
   "execution_count": null,
   "id": "9a798a0d",
   "metadata": {},
   "outputs": [],
   "source": [
    "Q13. How is covariance different from correlation?"
   ]
  },
  {
   "cell_type": "code",
   "execution_count": null,
   "id": "e0d52c6f",
   "metadata": {},
   "outputs": [],
   "source": [
    "Covariance - Covariance is an indicator of the extent to which 2 random variables are dependent on each other. A higher number denotes higher dependency. The value of covariance lies in the range of -∞ and +∞. Affects covariance\n",
    "Correlation - Correlation is a statistical measure that indicates how strongly two variables are related. Correlation is limited to values between the range -1 and +1. Does not affect the correlation."
   ]
  },
  {
   "cell_type": "code",
   "execution_count": null,
   "id": "e6bf74eb",
   "metadata": {},
   "outputs": [],
   "source": [
    "Q14. How do outliers affect measures of central tendency and dispersion? Provide an example. "
   ]
  },
  {
   "cell_type": "code",
   "execution_count": null,
   "id": "2476be11",
   "metadata": {},
   "outputs": [],
   "source": [
    "When a outlier is present it can effect the shape of the graph, if we have outliers to the right of the graph. These outliers are causing the mean to increase, but if we have outliers to the left of the graph these outliers are dragging down the mean. This causes a conflict because the mean no longer provides a good representation of the data, alternatively we would much rather use the median. The median on the other hand is less likely to be affect by outliers."
   ]
  }
 ],
 "metadata": {
  "kernelspec": {
   "display_name": "Python 3 (ipykernel)",
   "language": "python",
   "name": "python3"
  },
  "language_info": {
   "codemirror_mode": {
    "name": "ipython",
    "version": 3
   },
   "file_extension": ".py",
   "mimetype": "text/x-python",
   "name": "python",
   "nbconvert_exporter": "python",
   "pygments_lexer": "ipython3",
   "version": "3.9.7"
  }
 },
 "nbformat": 4,
 "nbformat_minor": 5
}
