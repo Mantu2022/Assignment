{
 "cells": [
  {
   "cell_type": "code",
   "execution_count": 20,
   "id": "f8e00456",
   "metadata": {},
   "outputs": [],
   "source": [
    "# Q1. Which keyword is used to create a function? Create a function to return a list of odd numbers in the\n",
    "#range of 1 to 25."
   ]
  },
  {
   "cell_type": "code",
   "execution_count": 25,
   "id": "e8647a76",
   "metadata": {},
   "outputs": [
    {
     "name": "stdout",
     "output_type": "stream",
     "text": [
      "1\n",
      "3\n",
      "5\n",
      "7\n",
      "9\n",
      "11\n",
      "13\n",
      "15\n",
      "17\n",
      "19\n",
      "21\n",
      "23\n"
     ]
    }
   ],
   "source": [
    "#def keyword is used to create a function.\n",
    "for num in range(1,25):\n",
    "    if num % 2 != 0:\n",
    "        print(num)"
   ]
  },
  {
   "cell_type": "code",
   "execution_count": null,
   "id": "c1118f59",
   "metadata": {},
   "outputs": [],
   "source": [
    "Q2. Why *args and **kwargs is used in some functions? Create a function each for *args and **kwargs to\n",
    "demonstrate their use."
   ]
  },
  {
   "cell_type": "code",
   "execution_count": 26,
   "id": "34711636",
   "metadata": {},
   "outputs": [
    {
     "name": "stdout",
     "output_type": "stream",
     "text": [
      "Sum: 8\n",
      "Sum: 22\n",
      "Sum: 17\n"
     ]
    }
   ],
   "source": [
    "#We use *args and **kwargs as an argument when we are unsure about the number of arguments to pass in the functions.\n",
    "#Python has *args which allow us to pass the variable number of non keyword arguments to function.\n",
    "def adder(*num):\n",
    "    sum = 0\n",
    "    \n",
    "    for n in num:\n",
    "        sum = sum + n\n",
    "\n",
    "    print(\"Sum:\",sum)\n",
    "\n",
    "adder(3,5)\n",
    "adder(4,5,6,7)\n",
    "adder(1,2,3,5,6)"
   ]
  },
  {
   "cell_type": "code",
   "execution_count": null,
   "id": "cb9dcf8b",
   "metadata": {},
   "outputs": [],
   "source": [
    "Python passes variable length non keyword argument to function using *args but we cannot use \n",
    "this to pass keyword argument. For this problem Python has got a solution called **kwargs, it\n",
    "allows us to pass the variable length of keyword arguments to the function."
   ]
  },
  {
   "cell_type": "code",
   "execution_count": 28,
   "id": "a9e534aa",
   "metadata": {},
   "outputs": [
    {
     "name": "stdout",
     "output_type": "stream",
     "text": [
      "\n",
      "Data type of argument: <class 'dict'>\n",
      "Firstname is Sita\n",
      "Lastname is Sharma\n",
      "Age is 22\n",
      "Phone is 1234567890\n",
      "\n",
      "Data type of argument: <class 'dict'>\n",
      "Firstname is John\n",
      "Lastname is Wood\n",
      "Email is johnwood@nomail.com\n",
      "Country is Wakanda\n",
      "Age is 25\n",
      "Phone is 9876543210\n"
     ]
    }
   ],
   "source": [
    "def intro(**data):\n",
    "    print(\"\\nData type of argument:\",type(data))\n",
    "\n",
    "    for key, value in data.items():\n",
    "        print(\"{} is {}\".format(key,value))\n",
    "\n",
    "intro(Firstname=\"Sita\", Lastname=\"Sharma\", Age=22, Phone=1234567890)\n",
    "intro(Firstname=\"John\", Lastname=\"Wood\", Email=\"johnwood@nomail.com\", Country=\"Wakanda\", Age=25, Phone=9876543210)"
   ]
  },
  {
   "cell_type": "code",
   "execution_count": null,
   "id": "a9a301ea",
   "metadata": {},
   "outputs": [],
   "source": [
    "Q3. What is an iterator in python? Name the method used to initialise the iterator object and the method\n",
    "used for iteration. Use these methods to print the first five elements of the given list [2, 4, 6, 8, 10, 12, 14, 16,\n",
    "18, 20]."
   ]
  },
  {
   "cell_type": "code",
   "execution_count": null,
   "id": "81977670",
   "metadata": {},
   "outputs": [],
   "source": [
    "Iterator in Python is an object that is used to iterate over iterable objects like \n",
    "lists, tuples, dicts, and sets. The iterator object is initialized using the iter() method. \n",
    "It uses the next() method for iteration."
   ]
  },
  {
   "cell_type": "code",
   "execution_count": 41,
   "id": "42f45718",
   "metadata": {},
   "outputs": [
    {
     "name": "stdout",
     "output_type": "stream",
     "text": [
      "2\n",
      "4\n",
      "6\n",
      "8\n",
      "10\n",
      "12\n",
      "14\n",
      "16\n",
      "18\n",
      "20\n"
     ]
    }
   ],
   "source": [
    "list1 = [2, 4, 6, 8, 10, 12, 14, 16, 18, 20]\n",
    "for item in list1:\n",
    "    print(item)"
   ]
  },
  {
   "cell_type": "code",
   "execution_count": null,
   "id": "b0ea9fdc",
   "metadata": {},
   "outputs": [],
   "source": [
    "Q4. What is a generator function in python? Why yield keyword is used?\n",
    "Give an example of a generator\n",
    "function."
   ]
  },
  {
   "cell_type": "code",
   "execution_count": null,
   "id": "4bc24531",
   "metadata": {},
   "outputs": [],
   "source": [
    "In Python, generator functions are those functions that, instead of returning a single value, \n",
    "return an iterable generator object. You can access or read the values returned from the \n",
    "generator function stored inside a generator object one-by-one using a simple loop or using\n",
    "next() or list() methods"
   ]
  },
  {
   "cell_type": "code",
   "execution_count": 42,
   "id": "fb25f6de",
   "metadata": {},
   "outputs": [
    {
     "name": "stdout",
     "output_type": "stream",
     "text": [
      "[1, 3, 5, 7, 9, 11, 13, 15, 17, 19]\n"
     ]
    }
   ],
   "source": [
    "def filter_odd(numbers):\n",
    "\n",
    "   for number in range(numbers):\n",
    "\n",
    "       if(number%2!=0):\n",
    "\n",
    "           yield number \n",
    "\n",
    "odd_numbers = filter_odd(20)\n",
    "\n",
    "print(list(odd_numbers))"
   ]
  },
  {
   "cell_type": "code",
   "execution_count": null,
   "id": "728b5df1",
   "metadata": {},
   "outputs": [],
   "source": [
    "Q5. Create a generator function for prime numbers less than 1000. \n",
    "Use the next() method to print the first 20 prime numbers."
   ]
  },
  {
   "cell_type": "code",
   "execution_count": 50,
   "id": "5e1b48ae",
   "metadata": {},
   "outputs": [
    {
     "name": "stdout",
     "output_type": "stream",
     "text": [
      "[2, 3, 5, 7, 11, 13, 17, 19, 23, 29, 31, 37, 41, 43, 47, 53, 59, 61, 67, 71, 73, 79, 83, 89, 97, 101, 103, 107, 109, 113, 127, 131, 137, 139, 149, 151, 157, 163, 167, 173, 179, 181, 191, 193, 197, 199, 211, 223, 227, 229, 233, 239, 241, 251, 257, 263, 269, 271, 277, 281, 283, 293, 307, 311, 313, 317, 331, 337, 347, 349, 353, 359, 367, 373, 379, 383, 389, 397, 401, 409, 419, 421, 431, 433, 439, 443, 449, 457, 461, 463, 467, 479, 487, 491, 499, 503, 509, 521, 523, 541, 547, 557, 563, 569, 571, 577, 587, 593, 599, 601, 607, 613, 617, 619, 631, 641, 643, 647, 653, 659, 661, 673, 677, 683, 691, 701, 709, 719, 727, 733, 739, 743, 751, 757, 761, 769, 773, 787, 797, 809, 811, 821, 823, 827, 829, 839, 853, 857, 859, 863, 877, 881, 883, 887, 907, 911, 919, 929, 937, 941, 947, 953, 967, 971, 977, 983, 991, 997]\n"
     ]
    }
   ],
   "source": [
    "class Solution:\n",
    "   def solve(self, n):\n",
    "      sieve = [True] * (n + 1)\n",
    "      primes = []\n",
    "      for i in range(2, n + 1):\n",
    "         if sieve[i]:\n",
    "            primes.append(i)\n",
    "            for j in range(i, n + 1, i):\n",
    "               sieve[j] = False\n",
    "      return primes\n",
    "ob = Solution()\n",
    "print(ob.solve(1000))\n",
    "    \n"
   ]
  },
  {
   "cell_type": "code",
   "execution_count": null,
   "id": "956425e6",
   "metadata": {},
   "outputs": [],
   "source": []
  },
  {
   "cell_type": "code",
   "execution_count": null,
   "id": "3bae2eb5",
   "metadata": {},
   "outputs": [],
   "source": []
  }
 ],
 "metadata": {
  "kernelspec": {
   "display_name": "Python 3 (ipykernel)",
   "language": "python",
   "name": "python3"
  },
  "language_info": {
   "codemirror_mode": {
    "name": "ipython",
    "version": 3
   },
   "file_extension": ".py",
   "mimetype": "text/x-python",
   "name": "python",
   "nbconvert_exporter": "python",
   "pygments_lexer": "ipython3",
   "version": "3.9.7"
  }
 },
 "nbformat": 4,
 "nbformat_minor": 5
}
