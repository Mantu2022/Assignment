{
 "cells": [
  {
   "cell_type": "markdown",
   "id": "9e9981b4",
   "metadata": {},
   "source": [
    "Q1: What are the Probability Mass Function (PMF) and Probability Density Function (PDF)? Explain with  an example."
   ]
  },
  {
   "cell_type": "code",
   "execution_count": null,
   "id": "5cb15ca5",
   "metadata": {},
   "outputs": [],
   "source": [
    "Probability mass function can be defined as the probability that a discrete random variable will be exactly equal to some particular value. Probability mass functions (pmf) are used to describe discrete probability distributions. While probability density functions (pdf) are used to describe continuous probability distributions.\n",
    "Example of PMF: Suppose a fair coin is tossed twice and the sample space is recorded as S = [HH, HT, TH, TT]. The probability of getting heads needs to be determined. Let X be the random variable that shows how many heads are obtained. X can take on the values 0, 1, 2. The probability that X will be equal to 1 is 0.5. Thus, it can be said that the probability mass function of X evaluated at 1 will be 0.5.\n",
    "Example of PDF: Say we have a continuous random variable whose probability density function is given by f(x) = x + 2, when 0 < x ≤ 2. We want to find P(0.5 < X < 1). Then we integrate x + 2 within the limits 0.5 and 1. This gives us 1.375. Thus, the probability that the continuous random variable lies between 0.5 and 1 is 1.375."
   ]
  },
  {
   "cell_type": "markdown",
   "id": "c2a0015a",
   "metadata": {},
   "source": [
    "Q2: What is Cumulative Density Function (CDF)? Explain with an example. Why CDF is used? "
   ]
  },
  {
   "cell_type": "code",
   "execution_count": null,
   "id": "0c4770f5",
   "metadata": {},
   "outputs": [],
   "source": [
    "The probability density function (pdf), denoted  f, of a continuous random variable  X satisfies the following:\n",
    "1. f(x)≥0, for all  x∈R\n",
    "2. f is piecewise continuous\n",
    "3. ∫−∞∞f(x)dx=1\n",
    "4. P(a≤X≤b)=∫baf(x)dx\n",
    "The first three conditions in the definition state the properties necessary for a function to be a valid pdf for a continuous random variable. The fourth condition tells us how to use a pdf to calculate probabilities for continuous random variables, which are given by integrals the continuous analog to sums.\n",
    "Let the random variable  X\n",
    "  denote the time a person waits for an elevator to arrive. Suppose the longest one would need to wait for the elevator is 2 minutes, so that the possible values of  X\n",
    "  (in minutes) are given by the interval  [0,2]\n",
    " . A possible pdf for  X\n",
    "  is given by\n",
    "f(x)=⎧⎩⎨⎪⎪x,2−x,0,for 0≤x≤1for 1<x≤2otherwise\n",
    " \n",
    "\n",
    "The graph of  f is given below, and we verify that f satisfies the first three conditions in Definition 4.1.1:\n",
    "\n",
    "From the graph, it is clear that  f(x)≥0\n",
    " , for all  x∈R\n",
    " .\n",
    "Since there are no holes, jumps, asymptotes, we see that  f(x)\n",
    "  is (piecewise) continuous.\n",
    "Finally we compute:\n",
    "∫−∞∞f(x)dx=∫02xdx=∫01xdx+∫02(2−x)dx=1\n",
    " \n",
    "pdf1.jpg\n",
    "\n",
    "Figure 1: Graph of pdf for  X\n",
    " ,  f(x)\n",
    " \n",
    "So, if we wish to calculate the probability that a person waits less than 30 seconds (or 0.5 minutes) for the elevator to arrive, then we calculate the following probability using the pdf and the fourth property in Definition 4.1.1:\n",
    "P(0≤X≤0.5)=∫00.5f(x)dx=∫00.5xdx=0.125\n"
   ]
  },
  {
   "cell_type": "code",
   "execution_count": 3,
   "id": "ce613a6c",
   "metadata": {},
   "outputs": [],
   "source": [
    "Q3: What are some examples of situations where the normal distribution might be used as a model?  Explain how the parameters of the normal distribution relate to the shape of the distribution."
   ]
  },
  {
   "cell_type": "code",
   "execution_count": null,
   "id": "40d8cacf",
   "metadata": {},
   "outputs": [],
   "source": [
    "The normal probability model applies when the distribution of the continuous outcome conforms reasonably well to a normal or Gaussian distribution, which resembles a bell shaped curve. Note normal probability model can be used even if the distribution of the continuous outcome is not perfectly symmetrical; it just has to be reasonably close to a normal or Gaussian distribution.\n",
    "BMI in Males - Consider body mass index (BMI) in a population of 60 year old males in whom BMI is normally distributed and has a mean value = 29 and a standard deviation = 6. The standard deviation gives us a measure of how spread out the observations are.\n",
    "The mean (μ = 29) is in the center of the distribution, and the horizontal axis is scaled in increments of the standard deviation (σ = 6) and the distribution essentially ranges from μ - 3 σ to μ + 3σ. It is possible to have BMI values below 11 or above 47, but extreme values occur very infrequently. To compute probabilities from normal distributions, we will compute areas under the curve. For any probability distribution, the total area under the curve is 1. For the normal distribution, we know that the mean is equal to median, so half (50%) of the area under the curve is above the mean and half is below, so P(BMI < 29)=0.50. Consequently, if we select a man at random from this population and ask what is the probability his BMI is less than 29?, the answer is 0.50 or 50%, since 50% of the area under the curve is below the value BMI = 29. Note that with the normal distribution the probability of having any exact value is 0 because there is no area at an exact BMI value, so in this case, the probability that his BMI = 29 is 0, but the probability that his BMI is <29 or the probability that his BMI is < 29 is 50%\n",
    "Characteristics of Normal Distributions\n",
    "Distributions that are normal or Gaussian have the following characteristics:\n",
    "\n",
    "Approximately 68% of the values fall between the mean and one standard deviation (in either direction)\n",
    "Approximately 95% of the values fall between the mean and two standard deviations (in either direction)\n",
    "Approximately 99.9% of the values fall between the mean and three standard deviations (in either direction)"
   ]
  },
  {
   "cell_type": "markdown",
   "id": "dcc714e2",
   "metadata": {},
   "source": [
    "Q4: Explain the importance of Normal Distribution. Give a few real-life examples of Normal  Distribution."
   ]
  },
  {
   "cell_type": "code",
   "execution_count": null,
   "id": "750f439f",
   "metadata": {},
   "outputs": [],
   "source": [
    "The normal distribution is the most important probability distribution in statistics because it fits many natural phenomena. \n",
    "A normal distribution is a distribution that is solely dependent on two parameters of the data set: mean and the standard deviation of the sample\n",
    "Mean is the centre of the curve. This is the highest point of the curve as most of the points are at the mean. There is an equal number of points on each side of the curve. The centre of the curve has the greatest number of points.\n",
    "For example, heights, blood pressure, measurement error, and IQ scores follow the normal distribution. It is also known as the Gaussian distribution and the bell curve."
   ]
  },
  {
   "cell_type": "markdown",
   "id": "5484e9e5",
   "metadata": {},
   "source": [
    "Q5: What is Bernaulli Distribution? Give an Example. What is the difference between Bernoulli  Distribution and Binomial Distribution?"
   ]
  },
  {
   "cell_type": "code",
   "execution_count": null,
   "id": "bfb166b5",
   "metadata": {},
   "outputs": [],
   "source": [
    "The Bernoulli distribution essentially models a single trial of flipping a weighted coin. It is the probability distribution of a random variable taking on only two values, \n",
    "1 (\"success\") and 0 (\"failure\") with complementary probabilities p and 1−p, respectively. The Bernoulli distribution therefore describes events having exactly two outcomes, which are ubiquitous in real life. Some examples of such events are as follows: a team will win a championship or not, a student will pass or fail an exam, and a rolled dice will either show a 6 or any other number.\n",
    "The Bernoulli distribution represents the success or failure of a single Bernoulli trial. The Binomial Distribution represents the number of successes and failures in n independent Bernoulli trials for some given value of n. For example, if a manufactured item is defective with probability p, then the binomial distribution represents the number of successes and failures in a lot of n items.\n",
    "In particular, sampling from this distribution gives a count of the number of defective items in a sample lot. Another example is the number of heads obtained in tossing a coin n times."
   ]
  },
  {
   "cell_type": "code",
   "execution_count": null,
   "id": "34ac3744",
   "metadata": {},
   "outputs": [],
   "source": [
    "Q6. Consider a dataset with a mean of 50 and a standard deviation of 10. If we assume that the dataset  is normally distributed, what is the probability that a randomly selected observation will be greater  than 60? Use the appropriate formula and show your calculations. "
   ]
  },
  {
   "cell_type": "code",
   "execution_count": null,
   "id": "a8a91f2a",
   "metadata": {},
   "outputs": [],
   "source": [
    "Mean = 50\n",
    "std = 10\n",
    "X = 60\n",
    "\n",
    "X-mean/std = 60-50/10 = 1 z - score = 0.53983\n",
    "Randomly selected observation greater than 60 will be 1 - 0.53983 = 0.46017 = 46.017 %.\n"
   ]
  },
  {
   "cell_type": "code",
   "execution_count": null,
   "id": "521a2a9b",
   "metadata": {},
   "outputs": [],
   "source": [
    "Q7: Explain uniform Distribution with an example. "
   ]
  },
  {
   "cell_type": "code",
   "execution_count": null,
   "id": "9c501980",
   "metadata": {},
   "outputs": [],
   "source": [
    "Uniform distribution refers to a type of probability distribution in which all outcomes are equally likely. A deck of cards has within it uniform distributions because the likelihood of drawing a heart, a club, a diamond, or a spade is equally likely. A coin also has a uniform distribution because the probability of getting either heads or tails in a coin toss is the same."
   ]
  },
  {
   "cell_type": "code",
   "execution_count": null,
   "id": "d6066135",
   "metadata": {},
   "outputs": [],
   "source": [
    "Q8: What is the z score? State the importance of the z score."
   ]
  },
  {
   "cell_type": "code",
   "execution_count": null,
   "id": "dd21a6ef",
   "metadata": {},
   "outputs": [],
   "source": [
    "Z-score is a statistical measurement that describes a value's relationship to the mean of a group of values. Z-score is measured in terms of standard deviations from the mean. If a Z-score is 0, it indicates that the data point's score is identical to the mean score. A Z-score of 1.0 would indicate a value that is one standard deviation from the mean. Z-scores may be positive or negative, with a positive value indicating the score is above the mean and a negative score indicating it is below the mean.\n",
    "A z-score is important because it tells where your data lies in the data distribution. For example, if a z-score is 1.5, it is 1.5 standard deviations away from the mean. Because 68% of your data lies within one standard deviation (if it is normally distributed), 1.5 might be considered too far from average for our comfort."
   ]
  },
  {
   "cell_type": "code",
   "execution_count": null,
   "id": "084a511c",
   "metadata": {},
   "outputs": [],
   "source": [
    "Q9: What is Central Limit Theorem? State the significance of the Central Limit Theorem. Q10: State the assumptions of the Central Limit Theorem."
   ]
  },
  {
   "cell_type": "code",
   "execution_count": null,
   "id": "3de2dc1c",
   "metadata": {},
   "outputs": [],
   "source": [
    "The central limit theorem says that the sampling distribution of the mean will always be normally distributed, as long as the sample size is large enough. Regardless of whether the population has a normal, Poisson, binomial, or any other distribution, the sampling distribution of the mean will be normal.\n",
    "The central limit theorem is one of the most fundamental statistical theorems. In fact, the “central” in “central limit theorem” refers to the importance of the theorem.\n",
    "Parametric tests, such as t tests, ANOVAs, and linear regression, have more statistical power than most non-parametric tests. Their statistical power comes from assumptions about populations’ distributions that are based on the central limit theorem.\n",
    "The central limit theorem states that the sampling distribution of the mean will always follow a normal distribution under the following conditions: \n",
    "    1. The sample size is sufficiently large. This condition is usually met if the sample size is n ≥ 30.\n",
    "    2. The samples are independent and identically distributed (i.i.d.) random variables. This condition is usually met if the sampling is random.\n",
    "    3. The population’s distribution has finite variance. Central limit theorem doesn’t apply to distributions with infinite variance, such as the Cauchy distribution. Most distributions have finite variance.\n",
    "    \n",
    "1"
   ]
  },
  {
   "cell_type": "code",
   "execution_count": null,
   "id": "bf032114",
   "metadata": {},
   "outputs": [],
   "source": []
  },
  {
   "cell_type": "code",
   "execution_count": null,
   "id": "6bb49825",
   "metadata": {},
   "outputs": [],
   "source": []
  },
  {
   "cell_type": "code",
   "execution_count": null,
   "id": "c7ac5fca",
   "metadata": {},
   "outputs": [],
   "source": []
  },
  {
   "cell_type": "code",
   "execution_count": null,
   "id": "b95dbc0e",
   "metadata": {},
   "outputs": [],
   "source": []
  },
  {
   "cell_type": "code",
   "execution_count": null,
   "id": "22dd81af",
   "metadata": {},
   "outputs": [],
   "source": []
  },
  {
   "cell_type": "code",
   "execution_count": null,
   "id": "1cead3a6",
   "metadata": {},
   "outputs": [],
   "source": []
  }
 ],
 "metadata": {
  "kernelspec": {
   "display_name": "Python 3 (ipykernel)",
   "language": "python",
   "name": "python3"
  },
  "language_info": {
   "codemirror_mode": {
    "name": "ipython",
    "version": 3
   },
   "file_extension": ".py",
   "mimetype": "text/x-python",
   "name": "python",
   "nbconvert_exporter": "python",
   "pygments_lexer": "ipython3",
   "version": "3.9.7"
  }
 },
 "nbformat": 4,
 "nbformat_minor": 5
}
