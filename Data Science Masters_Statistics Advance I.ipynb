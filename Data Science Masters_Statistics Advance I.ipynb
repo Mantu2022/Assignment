{
 "cells": [
  {
   "cell_type": "code",
   "execution_count": null,
   "id": "d4af0eed",
   "metadata": {},
   "outputs": [],
   "source": [
    "# What is the probability density function ?"
   ]
  },
  {
   "cell_type": "code",
   "execution_count": null,
   "id": "632698d8",
   "metadata": {},
   "outputs": [],
   "source": [
    "The Probability Density Function(PDF) defines the probability function representing the density of a continuous random variable lying between a specific range of values. In other words, the probability density function produces the likelihood of values of the continuous random variable. Sometimes it is also called a probability distribution function or just a probability function. However, this function is stated in many other sources as the function over a broad set of values. Often it is referred to as cumulative distribution function or sometimes as probability mass function(PMF). However, the actual truth is PDF (probability density function ) is defined for continuous random variables, whereas PMF (probability mass function) is defined for discrete random variables."
   ]
  },
  {
   "cell_type": "code",
   "execution_count": null,
   "id": "43d2ac02",
   "metadata": {},
   "outputs": [],
   "source": [
    "What are the types of probalility distribution ? "
   ]
  },
  {
   "cell_type": "code",
   "execution_count": null,
   "id": "362b2850",
   "metadata": {},
   "outputs": [],
   "source": [
    "There are two types of probability distribution which are used for different purposes and various types of the data generation process.\n",
    "\n",
    "Normal or Cumulative Probability Distribution\n",
    "Binomial or Discrete Probability Distribution\n"
   ]
  },
  {
   "cell_type": "code",
   "execution_count": 21,
   "id": "cbaed3bb",
   "metadata": {},
   "outputs": [
    {
     "data": {
      "text/html": [
       "\n",
       "\n",
       "\n",
       "\n",
       "\n",
       "\n",
       "  <div class=\"bk-root\" id=\"75b8ce8b-7dbe-4f16-83ac-9a947d6da65e\" data-root-id=\"2878\"></div>\n"
      ]
     },
     "metadata": {},
     "output_type": "display_data"
    },
    {
     "data": {
      "application/javascript": [
       "(function(root) {\n",
       "  function embed_document(root) {\n",
       "    \n",
       "  const docs_json = {\"80f09436-44e9-46d8-ad42-9850893df25d\":{\"defs\":[],\"roots\":{\"references\":[{\"attributes\":{\"below\":[{\"id\":\"2889\"}],\"center\":[{\"id\":\"2892\"},{\"id\":\"2896\"}],\"left\":[{\"id\":\"2893\"}],\"renderers\":[{\"id\":\"2915\"}],\"title\":{\"id\":\"2879\"},\"toolbar\":{\"id\":\"2904\"},\"x_range\":{\"id\":\"2881\"},\"x_scale\":{\"id\":\"2885\"},\"y_range\":{\"id\":\"2883\"},\"y_scale\":{\"id\":\"2887\"}},\"id\":\"2878\",\"subtype\":\"Figure\",\"type\":\"Plot\"},{\"attributes\":{\"axis\":{\"id\":\"2889\"},\"coordinates\":null,\"group\":null,\"ticker\":null},\"id\":\"2892\",\"type\":\"Grid\"},{\"attributes\":{\"coordinates\":null,\"data_source\":{\"id\":\"2911\"},\"glyph\":{\"id\":\"2912\"},\"group\":null,\"hover_glyph\":null,\"muted_glyph\":{\"id\":\"2914\"},\"nonselection_glyph\":{\"id\":\"2913\"},\"view\":{\"id\":\"2916\"}},\"id\":\"2915\",\"type\":\"GlyphRenderer\"},{\"attributes\":{\"coordinates\":null,\"group\":null,\"text\":\"test flower\"},\"id\":\"2879\",\"type\":\"Title\"},{\"attributes\":{},\"id\":\"2994\",\"type\":\"UnionRenderers\"},{\"attributes\":{},\"id\":\"2995\",\"type\":\"Selection\"},{\"attributes\":{\"tools\":[{\"id\":\"2897\"},{\"id\":\"2898\"},{\"id\":\"2899\"},{\"id\":\"2900\"},{\"id\":\"2901\"},{\"id\":\"2902\"}]},\"id\":\"2904\",\"type\":\"Toolbar\"},{\"attributes\":{},\"id\":\"2894\",\"type\":\"BasicTicker\"},{\"attributes\":{\"source\":{\"id\":\"2911\"}},\"id\":\"2916\",\"type\":\"CDSView\"},{\"attributes\":{\"data\":{\"x\":{\"__ndarray__\":\"ZmZmZmZm9j9mZmZmZmb2P83MzMzMzPQ/AAAAAAAA+D9mZmZmZmb2PzMzMzMzM/s/ZmZmZmZm9j8AAAAAAAD4P2ZmZmZmZvY/AAAAAAAA+D8AAAAAAAD4P5qZmZmZmfk/ZmZmZmZm9j+amZmZmZnxPzMzMzMzM/M/AAAAAAAA+D/NzMzMzMz0P2ZmZmZmZvY/MzMzMzMz+z8AAAAAAAD4PzMzMzMzM/s/AAAAAAAA+D8AAAAAAADwPzMzMzMzM/s/ZmZmZmZm/j+amZmZmZn5P5qZmZmZmfk/AAAAAAAA+D9mZmZmZmb2P5qZmZmZmfk/mpmZmZmZ+T8AAAAAAAD4PwAAAAAAAPg/ZmZmZmZm9j8AAAAAAAD4PzMzMzMzM/M/zczMzMzM9D9mZmZmZmb2P83MzMzMzPQ/AAAAAAAA+D/NzMzMzMz0P83MzMzMzPQ/zczMzMzM9D+amZmZmZn5P2ZmZmZmZv4/ZmZmZmZm9j+amZmZmZn5P2ZmZmZmZvY/AAAAAAAA+D9mZmZmZmb2P83MzMzMzBJAAAAAAAAAEkCamZmZmZkTQAAAAAAAABBAZmZmZmZmEkAAAAAAAAASQM3MzMzMzBJAZmZmZmZmCkBmZmZmZmYSQDMzMzMzMw9AAAAAAAAADEDNzMzMzMwQQAAAAAAAABBAzczMzMzMEkDNzMzMzMwMQJqZmZmZmRFAAAAAAAAAEkBmZmZmZmYQQAAAAAAAABJAMzMzMzMzD0AzMzMzMzMTQAAAAAAAABBAmpmZmZmZE0DNzMzMzMwSQDMzMzMzMxFAmpmZmZmZEUAzMzMzMzMTQAAAAAAAABRAAAAAAAAAEkAAAAAAAAAMQGZmZmZmZg5AmpmZmZmZDUAzMzMzMzMPQGZmZmZmZhRAAAAAAAAAEkAAAAAAAAASQM3MzMzMzBJAmpmZmZmZEUBmZmZmZmYQQAAAAAAAABBAmpmZmZmZEUBmZmZmZmYSQAAAAAAAABBAZmZmZmZmCkDNzMzMzMwQQM3MzMzMzBBAzczMzMzMEEAzMzMzMzMRQAAAAAAAAAhAZmZmZmZmEEAAAAAAAAAYQGZmZmZmZhRAmpmZmZmZF0BmZmZmZmYWQDMzMzMzMxdAZmZmZmZmGkAAAAAAAAASQDMzMzMzMxlAMzMzMzMzF0BmZmZmZmYYQGZmZmZmZhRAMzMzMzMzFUAAAAAAAAAWQAAAAAAAABRAZmZmZmZmFEAzMzMzMzMVQAAAAAAAABZAzczMzMzMGkCamZmZmZkbQAAAAAAAABRAzczMzMzMFkCamZmZmZkTQM3MzMzMzBpAmpmZmZmZE0DNzMzMzMwWQAAAAAAAABhAMzMzMzMzE0CamZmZmZkTQGZmZmZmZhZAMzMzMzMzF0BmZmZmZmYYQJqZmZmZmRlAZmZmZmZmFkBmZmZmZmYUQGZmZmZmZhZAZmZmZmZmGEBmZmZmZmYWQAAAAAAAABZAMzMzMzMzE0CamZmZmZkVQGZmZmZmZhZAZmZmZmZmFEBmZmZmZmYUQJqZmZmZmRdAzczMzMzMFkDNzMzMzMwUQAAAAAAAABRAzczMzMzMFECamZmZmZkVQGZmZmZmZhRA\",\"dtype\":\"float64\",\"order\":\"little\",\"shape\":[150]},\"y\":{\"__ndarray__\":\"mpmZmZmZyT+amZmZmZnJP5qZmZmZmck/mpmZmZmZyT+amZmZmZnJP5qZmZmZmdk/MzMzMzMz0z+amZmZmZnJP5qZmZmZmck/mpmZmZmZuT+amZmZmZnJP5qZmZmZmck/mpmZmZmZuT+amZmZmZm5P5qZmZmZmck/mpmZmZmZ2T+amZmZmZnZPzMzMzMzM9M/MzMzMzMz0z8zMzMzMzPTP5qZmZmZmck/mpmZmZmZ2T+amZmZmZnJPwAAAAAAAOA/mpmZmZmZyT+amZmZmZnJP5qZmZmZmdk/mpmZmZmZyT+amZmZmZnJP5qZmZmZmck/mpmZmZmZyT+amZmZmZnZP5qZmZmZmbk/mpmZmZmZyT+amZmZmZnJP5qZmZmZmck/mpmZmZmZyT+amZmZmZm5P5qZmZmZmck/mpmZmZmZyT8zMzMzMzPTPzMzMzMzM9M/mpmZmZmZyT8zMzMzMzPjP5qZmZmZmdk/MzMzMzMz0z+amZmZmZnJP5qZmZmZmck/mpmZmZmZyT+amZmZmZnJP2ZmZmZmZvY/AAAAAAAA+D8AAAAAAAD4P83MzMzMzPQ/AAAAAAAA+D/NzMzMzMz0P5qZmZmZmfk/AAAAAAAA8D/NzMzMzMz0P2ZmZmZmZvY/AAAAAAAA8D8AAAAAAAD4PwAAAAAAAPA/ZmZmZmZm9j/NzMzMzMz0P2ZmZmZmZvY/AAAAAAAA+D8AAAAAAADwPwAAAAAAAPg/mpmZmZmZ8T/NzMzMzMz8P83MzMzMzPQ/AAAAAAAA+D8zMzMzMzPzP83MzMzMzPQ/ZmZmZmZm9j9mZmZmZmb2PzMzMzMzM/s/AAAAAAAA+D8AAAAAAADwP5qZmZmZmfE/AAAAAAAA8D8zMzMzMzPzP5qZmZmZmfk/AAAAAAAA+D+amZmZmZn5PwAAAAAAAPg/zczMzMzM9D/NzMzMzMz0P83MzMzMzPQ/MzMzMzMz8z9mZmZmZmb2PzMzMzMzM/M/AAAAAAAA8D/NzMzMzMz0PzMzMzMzM/M/zczMzMzM9D/NzMzMzMz0P5qZmZmZmfE/zczMzMzM9D8AAAAAAAAEQGZmZmZmZv4/zczMzMzMAEDNzMzMzMz8P5qZmZmZmQFAzczMzMzMAEAzMzMzMzP7P83MzMzMzPw/zczMzMzM/D8AAAAAAAAEQAAAAAAAAABAZmZmZmZm/j/NzMzMzMwAQAAAAAAAAABAMzMzMzMzA0BmZmZmZmYCQM3MzMzMzPw/mpmZmZmZAUBmZmZmZmYCQAAAAAAAAPg/ZmZmZmZmAkAAAAAAAAAAQAAAAAAAAABAzczMzMzM/D/NzMzMzMwAQM3MzMzMzPw/zczMzMzM/D/NzMzMzMz8P83MzMzMzABAmpmZmZmZ+T9mZmZmZmb+PwAAAAAAAABAmpmZmZmZAUAAAAAAAAD4P2ZmZmZmZvY/ZmZmZmZmAkAzMzMzMzMDQM3MzMzMzPw/zczMzMzM/D/NzMzMzMwAQDMzMzMzMwNAZmZmZmZmAkBmZmZmZmb+P2ZmZmZmZgJAAAAAAAAABEBmZmZmZmYCQGZmZmZmZv4/AAAAAAAAAEBmZmZmZmYCQM3MzMzMzPw/\",\"dtype\":\"float64\",\"order\":\"little\",\"shape\":[150]}},\"selected\":{\"id\":\"2995\"},\"selection_policy\":{\"id\":\"2994\"}},\"id\":\"2911\",\"type\":\"ColumnDataSource\"},{\"attributes\":{},\"id\":\"2902\",\"type\":\"HelpTool\"},{\"attributes\":{},\"id\":\"2887\",\"type\":\"LinearScale\"},{\"attributes\":{},\"id\":\"2890\",\"type\":\"BasicTicker\"},{\"attributes\":{},\"id\":\"2992\",\"type\":\"BasicTickFormatter\"},{\"attributes\":{},\"id\":\"2898\",\"type\":\"WheelZoomTool\"},{\"attributes\":{\"bottom_units\":\"screen\",\"coordinates\":null,\"fill_alpha\":0.5,\"fill_color\":\"lightgrey\",\"group\":null,\"left_units\":\"screen\",\"level\":\"overlay\",\"line_alpha\":1.0,\"line_color\":\"black\",\"line_dash\":[4,4],\"line_width\":2,\"right_units\":\"screen\",\"syncable\":false,\"top_units\":\"screen\"},\"id\":\"2903\",\"type\":\"BoxAnnotation\"},{\"attributes\":{\"axis\":{\"id\":\"2893\"},\"coordinates\":null,\"dimension\":1,\"group\":null,\"ticker\":null},\"id\":\"2896\",\"type\":\"Grid\"},{\"attributes\":{\"overlay\":{\"id\":\"2903\"}},\"id\":\"2899\",\"type\":\"BoxZoomTool\"},{\"attributes\":{},\"id\":\"2900\",\"type\":\"SaveTool\"},{\"attributes\":{\"fill_color\":{\"value\":\"#1f77b4\"},\"line_color\":{\"value\":\"#1f77b4\"},\"x\":{\"field\":\"x\"},\"y\":{\"field\":\"y\"}},\"id\":\"2912\",\"type\":\"Circle\"},{\"attributes\":{},\"id\":\"2990\",\"type\":\"AllLabels\"},{\"attributes\":{},\"id\":\"2989\",\"type\":\"BasicTickFormatter\"},{\"attributes\":{\"fill_alpha\":{\"value\":0.1},\"fill_color\":{\"value\":\"#1f77b4\"},\"hatch_alpha\":{\"value\":0.1},\"line_alpha\":{\"value\":0.1},\"line_color\":{\"value\":\"#1f77b4\"},\"x\":{\"field\":\"x\"},\"y\":{\"field\":\"y\"}},\"id\":\"2913\",\"type\":\"Circle\"},{\"attributes\":{},\"id\":\"2883\",\"type\":\"DataRange1d\"},{\"attributes\":{},\"id\":\"2901\",\"type\":\"ResetTool\"},{\"attributes\":{},\"id\":\"2993\",\"type\":\"AllLabels\"},{\"attributes\":{\"axis_label\":\"petal_width\",\"coordinates\":null,\"formatter\":{\"id\":\"2989\"},\"group\":null,\"major_label_policy\":{\"id\":\"2990\"},\"ticker\":{\"id\":\"2894\"}},\"id\":\"2893\",\"type\":\"LinearAxis\"},{\"attributes\":{\"fill_alpha\":{\"value\":0.2},\"fill_color\":{\"value\":\"#1f77b4\"},\"hatch_alpha\":{\"value\":0.2},\"line_alpha\":{\"value\":0.2},\"line_color\":{\"value\":\"#1f77b4\"},\"x\":{\"field\":\"x\"},\"y\":{\"field\":\"y\"}},\"id\":\"2914\",\"type\":\"Circle\"},{\"attributes\":{},\"id\":\"2897\",\"type\":\"PanTool\"},{\"attributes\":{},\"id\":\"2881\",\"type\":\"DataRange1d\"},{\"attributes\":{\"axis_label\":\"petal_length\",\"coordinates\":null,\"formatter\":{\"id\":\"2992\"},\"group\":null,\"major_label_policy\":{\"id\":\"2993\"},\"ticker\":{\"id\":\"2890\"}},\"id\":\"2889\",\"type\":\"LinearAxis\"},{\"attributes\":{},\"id\":\"2885\",\"type\":\"LinearScale\"}],\"root_ids\":[\"2878\"]},\"title\":\"Bokeh Application\",\"version\":\"2.4.1\"}};\n",
       "  const render_items = [{\"docid\":\"80f09436-44e9-46d8-ad42-9850893df25d\",\"root_ids\":[\"2878\"],\"roots\":{\"2878\":\"75b8ce8b-7dbe-4f16-83ac-9a947d6da65e\"}}];\n",
       "  root.Bokeh.embed.embed_items_notebook(docs_json, render_items);\n",
       "\n",
       "  }\n",
       "  if (root.Bokeh !== undefined) {\n",
       "    embed_document(root);\n",
       "  } else {\n",
       "    let attempts = 0;\n",
       "    const timer = setInterval(function(root) {\n",
       "      if (root.Bokeh !== undefined) {\n",
       "        clearInterval(timer);\n",
       "        embed_document(root);\n",
       "      } else {\n",
       "        attempts++;\n",
       "        if (attempts > 100) {\n",
       "          clearInterval(timer);\n",
       "          console.log(\"Bokeh: ERROR: Unable to run BokehJS code because BokehJS library is missing\");\n",
       "        }\n",
       "      }\n",
       "    }, 10, root)\n",
       "  }\n",
       "})(window);"
      ],
      "application/vnd.bokehjs_exec.v0+json": ""
     },
     "metadata": {
      "application/vnd.bokehjs_exec.v0+json": {
       "id": "2878"
      }
     },
     "output_type": "display_data"
    }
   ],
   "source": [
    "Write a python function to calculate the probbility density function of a normal distribution with given mean and standard deviation at given point."
   ]
  },
  {
   "cell_type": "code",
   "execution_count": 2,
   "id": "a24ece88",
   "metadata": {},
   "outputs": [
    {
     "data": {
      "text/plain": [
       "array([-5., -4., -3., -2., -1.,  0.,  1.,  2.,  3.,  4.,  5.])"
      ]
     },
     "execution_count": 2,
     "metadata": {},
     "output_type": "execute_result"
    }
   ],
   "source": [
    "from scipy.stats import norm\n",
    "import numpy as np\n",
    "  \n",
    "data_start = -5\n",
    "data_end = 5\n",
    "data_points = 11\n",
    "data = np.linspace(data_start, data_end, data_points)\n",
    "data"
   ]
  },
  {
   "cell_type": "code",
   "execution_count": 3,
   "id": "e13ff509",
   "metadata": {},
   "outputs": [
    {
     "name": "stdout",
     "output_type": "stream",
     "text": [
      "0.0804410163156249\n"
     ]
    }
   ],
   "source": [
    "mean = np.mean(data)\n",
    "std = np.std(data)\n",
    "  \n",
    "probability_pdf = norm.pdf(3, loc=mean, scale=std)\n",
    "print(probability_pdf)"
   ]
  },
  {
   "cell_type": "code",
   "execution_count": null,
   "id": "d00ed0c9",
   "metadata": {},
   "outputs": [],
   "source": [
    "Q4. What are the properties of binomial distribution? Give two examples of events where binomial distribution can be applied. "
   ]
  },
  {
   "cell_type": "code",
   "execution_count": null,
   "id": "a653037d",
   "metadata": {},
   "outputs": [],
   "source": [
    "The properties of the binomial distribution are:\n",
    "\n",
    "There are only two distinct possible outcomes: true/false, success/failure, yes/no.\n",
    "There is a fixed number of 'n' times repeated trials in a given experiment.\n",
    "The probability of success or failure remains constant for each attempt/trial.\n",
    "Only the successful attempts are calculated out of 'n' independent trials.\n",
    "Every trial is an independent trial on its own, this means that the outcome of one trial has no effect on the outcome of another trial.\n",
    "\n",
    "In real life, the concept of the binomial distribution is used for:\n",
    "\n",
    "Finding the quantity of raw and used materials while making a product.\n",
    "Taking a survey of positive and negative reviews from the public for any specific product or place.\n",
    "By using the YES/ NO survey\n",
    "To find the number of male and female students in a university.\n",
    "The number of votes collected by a candidate in an election is counted based on 0 or 1 probability."
   ]
  },
  {
   "cell_type": "code",
   "execution_count": null,
   "id": "768532ff",
   "metadata": {},
   "outputs": [],
   "source": [
    "Q5. Generate a random sample size of 1000 from a binomial distribution with probability of success 0.4 and plot a histogram of the results using matplotlib."
   ]
  },
  {
   "cell_type": "code",
   "execution_count": 9,
   "id": "587ecae9",
   "metadata": {},
   "outputs": [
    {
     "name": "stderr",
     "output_type": "stream",
     "text": [
      "C:\\Users\\Owner\\anaconda3\\lib\\site-packages\\seaborn\\distributions.py:2619: FutureWarning: `distplot` is a deprecated function and will be removed in a future version. Please adapt your code to use either `displot` (a figure-level function with similar flexibility) or `kdeplot` (an axes-level function for kernel density plots).\n",
      "  warnings.warn(msg, FutureWarning)\n"
     ]
    },
    {
     "data": {
      "image/png": "[encoded data removed]",
      "text/plain": [
       "<Figure size 432x288 with 1 Axes>"
      ]
     },
     "metadata": {
      "needs_background": "light"
     },
     "output_type": "display_data"
    }
   ],
   "source": [
    "from numpy import random\n",
    "import matplotlib.pyplot as plt\n",
    "import seaborn as sns\n",
    "\n",
    "\n",
    "sns.distplot(random.binomial(n=100, p=0.4, size=1000), hist=False, label='binomial')\n",
    "\n",
    "plt.show()"
   ]
  },
  {
   "cell_type": "code",
   "execution_count": null,
   "id": "3a07e304",
   "metadata": {},
   "outputs": [],
   "source": [
    "Q6. Write a python function to calculate the cumulative distribution function of a poisson distribution with given mean at a given point."
   ]
  },
  {
   "cell_type": "code",
   "execution_count": 16,
   "id": "cddebf74",
   "metadata": {},
   "outputs": [
    {
     "name": "stdout",
     "output_type": "stream",
     "text": [
      "[0.001 0.007 0.03  0.082 0.173 0.301 0.45  0.599 0.729 0.83  0.901 0.947\n",
      " 0.973 0.987 0.994 0.998 0.999]\n"
     ]
    },
    {
     "data": {
      "image/png": "[encoded data removed]",
      "text/plain": [
       "<Figure size 432x288 with 1 Axes>"
      ]
     },
     "metadata": {
      "needs_background": "light"
     },
     "output_type": "display_data"
    }
   ],
   "source": [
    "import numpy as np\n",
    "import matplotlib.pyplot as plt\n",
    "from scipy.stats import poisson\n",
    "cdf = poisson.cdf(k, mu=7)\n",
    "cdf = np.round(cdf, 3)\n",
    "\n",
    "print(cdf)\n",
    "plt.plot(k, cdf, marker='o')\n",
    "plt.xlabel('k')\n",
    "plt.ylabel('Cumulative Probability')\n",
    "\n",
    "plt.show()"
   ]
  },
  {
   "cell_type": "code",
   "execution_count": null,
   "id": "30750d43",
   "metadata": {},
   "outputs": [],
   "source": [
    "Q7. How binomial distribution different from poisson distribution?"
   ]
  },
  {
   "cell_type": "code",
   "execution_count": null,
   "id": "ab9af49e",
   "metadata": {},
   "outputs": [],
   "source": [
    "The binomial distribution is one, whose possible number of outcomes are two, i.e. success or failure. On the other hand, there is no limit of possible outcomes in Poisson distribution\n",
    "BINOMIAL DISTRIBUTION - Binomial distribution is one in which the probability of repeated number of trials are studied. Biparametric. Fixed in trials. Success is Constant probability. Mean > Variance. Example: Coin tossing experiment.\n",
    "POISSON DISTRIBUTION - Poisson Distribution gives the count of independent events occur randomly with a given period of time. Uniparametric in nature. Infinite no. of trials. Infinitesimal chance of success. Mean = Variance. Example : Printing mistakes/page of a large book."
   ]
  },
  {
   "cell_type": "code",
   "execution_count": null,
   "id": "82cdf05d",
   "metadata": {},
   "outputs": [],
   "source": [
    "Q8. Generate a random sample size of 1000 from a poisson distribution with mean 5 and calculate the sample mean and variance."
   ]
  },
  {
   "cell_type": "code",
   "execution_count": 1,
   "id": "418ffde9",
   "metadata": {},
   "outputs": [
    {
     "name": "stdout",
     "output_type": "stream",
     "text": [
      "Sample mean: 4.985\n",
      "Sample variance: 5.001776776776777\n"
     ]
    }
   ],
   "source": [
    "import numpy as np\n",
    "np.random.seed(42)\n",
    "# Generate a random sample of size 1000 from a Poisson distribution with mean 5\n",
    "sample = np.random.poisson(5, 1000)\n",
    "# Calculate the sample mean and variance\n",
    "sample_mean = np.mean(sample)\n",
    "sample_var = np.var(sample, ddof=1)\n",
    "print(\"Sample mean:\", sample_mean)\n",
    "print(\"Sample variance:\", sample_var)\n"
   ]
  },
  {
   "cell_type": "code",
   "execution_count": null,
   "id": "cc79f31a",
   "metadata": {},
   "outputs": [],
   "source": [
    "Q9.How mean and variance are related in binomial distribution and poisson distribution?\n"
   ]
  },
  {
   "cell_type": "code",
   "execution_count": null,
   "id": "5e7f7a4f",
   "metadata": {},
   "outputs": [],
   "source": [
    "BINOMIAL DISTRIBUTION - Mean > Variance\n",
    "POISSON DISTRIBUTION - Mean = Variance"
   ]
  },
  {
   "cell_type": "code",
   "execution_count": null,
   "id": "b79d2328",
   "metadata": {},
   "outputs": [],
   "source": [
    "Q10. In normal distribution with respect to mean position, where does the least frequent data appear?"
   ]
  },
  {
   "cell_type": "code",
   "execution_count": null,
   "id": "22c4586f",
   "metadata": {},
   "outputs": [],
   "source": [
    "A normal distribution is symmetric from the peak of the curve, where the mean is. This means that most of the observed data is clustered near the mean, while the data become less frequent when farther away from the mean."
   ]
  }
 ],
 "metadata": {
  "kernelspec": {
   "display_name": "Python 3 (ipykernel)",
   "language": "python",
   "name": "python3"
  },
  "language_info": {
   "codemirror_mode": {
    "name": "ipython",
    "version": 3
   },
   "file_extension": ".py",
   "mimetype": "text/x-python",
   "name": "python",
   "nbconvert_exporter": "python",
   "pygments_lexer": "ipython3",
   "version": "3.9.7"
  }
 },
 "nbformat": 4,
 "nbformat_minor": 5
}
