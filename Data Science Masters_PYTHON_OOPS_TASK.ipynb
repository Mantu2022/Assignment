{
 "cells": [
  {
   "cell_type": "code",
   "execution_count": null,
   "id": "279634fc",
   "metadata": {},
   "outputs": [],
   "source": [
    "Q1, Create a vehicle class with an init method having instance variables as name_of_vehicle, max_speed\n",
    "and average_of_vehicle."
   ]
  },
  {
   "cell_type": "code",
   "execution_count": 10,
   "id": "9dd61951",
   "metadata": {},
   "outputs": [
    {
     "name": "stdout",
     "output_type": "stream",
     "text": [
      "Car\n",
      "200\n",
      "40\n"
     ]
    }
   ],
   "source": [
    "class Vehicle:\n",
    "    def __init__(self, name_of_vehicle, max_speed, average_of_vehicle):\n",
    "        self.name_of_vehicle = name_of_vehicle\n",
    "        self.max_speed = max_speed\n",
    "        self.average_of_vehicle = average_of_vehicle\n",
    "\n",
    "\n",
    "car = Vehicle(\"Car\", 200, 40)\n",
    "print(car.name_of_vehicle)         \n",
    "print(car.max_speed)               \n",
    "print(car.average_of_vehicle)      \n"
   ]
  },
  {
   "cell_type": "code",
   "execution_count": null,
   "id": "06124929",
   "metadata": {},
   "outputs": [],
   "source": [
    "Q2. Create a child class car from the vehicle class created in Que 1, which will inherit the vehicle class.\n",
    "Create a method named seating_capacity which takes capacity as an argument and returns the name of\n",
    "the vehicle and its seating capacity."
   ]
  },
  {
   "cell_type": "code",
   "execution_count": 11,
   "id": "1a12e4d2",
   "metadata": {},
   "outputs": [
    {
     "name": "stdout",
     "output_type": "stream",
     "text": [
      "Car has a seating capacity of 5.\n"
     ]
    }
   ],
   "source": [
    "class Vehicle:\n",
    "    def __init__(self, name_of_vehicle, max_speed, average_of_vehicle):\n",
    "        self.name_of_vehicle = name_of_vehicle\n",
    "        self.max_speed = max_speed\n",
    "        self.average_of_vehicle = average_of_vehicle\n",
    "\n",
    "class Car(Vehicle):\n",
    "    def seating_capacity(self, capacity):\n",
    "        return f\"{self.name_of_vehicle} has a seating capacity of {capacity}.\"\n",
    "\n",
    "\n",
    "car = Car(\"Car\", 200, 40)\n",
    "print(car.seating_capacity(5))     \n"
   ]
  },
  {
   "cell_type": "code",
   "execution_count": null,
   "id": "291a24d8",
   "metadata": {},
   "outputs": [],
   "source": [
    "Q3. What is multiple inheritance? Write a python code to demonstrate multiple inheritance."
   ]
  },
  {
   "cell_type": "code",
   "execution_count": 12,
   "id": "9ae81acc",
   "metadata": {},
   "outputs": [
    {
     "name": "stdout",
     "output_type": "stream",
     "text": [
      "Mammal: Roar!\n"
     ]
    }
   ],
   "source": [
    "# Multiple inheritance is a feature in object-oriented programming where a class can inherit attributes and methods from multiple parent classes. It allows a derived class to inherit characteristics from more than one base class.\n",
    "\n",
    "# Here's an example code demonstrating multiple inheritance in Python:\n",
    "class Animal:\n",
    "    def __init__(self, name):\n",
    "        self.name = name\n",
    "\n",
    "    def speak(self):\n",
    "        pass\n",
    "\n",
    "class Mammal(Animal):\n",
    "    def speak(self):\n",
    "        return \"Mammal: Roar!\"\n",
    "\n",
    "class Aquatic(Animal):\n",
    "    def speak(self):\n",
    "        return \"Aquatic: Splash!\"\n",
    "\n",
    "class Dolphin(Mammal, Aquatic):\n",
    "    pass\n",
    "\n",
    "dolphin = Dolphin(\"Dolphin\")\n",
    "print(dolphin.speak())   \n"
   ]
  },
  {
   "cell_type": "code",
   "execution_count": null,
   "id": "478e65b0",
   "metadata": {},
   "outputs": [],
   "source": [
    "Q4. What are getter and setter in python? Create a class and create a getter and a setter method in this\n",
    "class."
   ]
  },
  {
   "cell_type": "code",
   "execution_count": null,
   "id": "82dd43ce",
   "metadata": {},
   "outputs": [],
   "source": [
    "Getters and setters are methods used to access and modify the attributes (variables) of a class. They provide a way to encapsulate the access and modification of class attributes, allowing for better control over the attribute values and providing an interface for interacting with the class's data.\n",
    "\n",
    "A getter is a method that retrieves the value of an attribute. It is used to access the attribute's value from outside the class.\n",
    "\n",
    "A setter is a method that sets or modifies the value of an attribute. It is used to change the attribute's value from outside the class.\n",
    "\n",
    "Here's an example of a class that demonstrates the use of a getter and a setter method:"
   ]
  },
  {
   "cell_type": "code",
   "execution_count": 14,
   "id": "3137a9c9",
   "metadata": {},
   "outputs": [
    {
     "name": "stdout",
     "output_type": "stream",
     "text": [
      "John\n",
      "Alice\n"
     ]
    }
   ],
   "source": [
    "class Person:\n",
    "    def __init__(self, name):\n",
    "        self._name = name\n",
    "\n",
    "    def get_name(self):\n",
    "        return self._name\n",
    "\n",
    "    def set_name(self, new_name):\n",
    "        self._name = new_name\n",
    "\n",
    "# Example usage\n",
    "person = Person(\"John\")\n",
    "print(person.get_name())  \n",
    "person.set_name(\"Alice\")\n",
    "print(person.get_name())  \n"
   ]
  },
  {
   "cell_type": "code",
   "execution_count": null,
   "id": "2a92375e",
   "metadata": {},
   "outputs": [],
   "source": [
    "Q5.What is method overriding in python? Write a python code to demonstrate method overriding."
   ]
  },
  {
   "cell_type": "code",
   "execution_count": null,
   "id": "73233ace",
   "metadata": {},
   "outputs": [],
   "source": [
    "Method overriding in Python is a feature of object-oriented programming where a subclass provides its own implementation of a method that is already defined in its superclass. The overridden method in the subclass has the same name, parameters, and return type as the method in the superclass, but it provides a different implementation.\n",
    "\n",
    "Here's an example code demonstrating method overriding in Python:"
   ]
  },
  {
   "cell_type": "code",
   "execution_count": 16,
   "id": "a1d0eeb8",
   "metadata": {},
   "outputs": [
    {
     "name": "stdout",
     "output_type": "stream",
     "text": [
      "Animal makes a sound\n",
      "Cat meows\n",
      "Dog barks\n"
     ]
    }
   ],
   "source": [
    "class Animal:\n",
    "    def sound(self):\n",
    "        print(\"Animal makes a sound\")\n",
    "\n",
    "class Cat(Animal):\n",
    "    def sound(self):\n",
    "        print(\"Cat meows\")\n",
    "\n",
    "class Dog(Animal):\n",
    "    def sound(self):\n",
    "        print(\"Dog barks\")\n",
    "\n",
    "# Example usage\n",
    "animal = Animal()\n",
    "animal.sound()  \n",
    "cat = Cat()\n",
    "cat.sound()     \n",
    "dog = Dog()\n",
    "dog.sound()     \n"
   ]
  },
  {
   "cell_type": "code",
   "execution_count": null,
   "id": "eb4f37f4",
   "metadata": {},
   "outputs": [],
   "source": []
  }
 ],
 "metadata": {
  "kernelspec": {
   "display_name": "Python 3 (ipykernel)",
   "language": "python",
   "name": "python3"
  },
  "language_info": {
   "codemirror_mode": {
    "name": "ipython",
    "version": 3
   },
   "file_extension": ".py",
   "mimetype": "text/x-python",
   "name": "python",
   "nbconvert_exporter": "python",
   "pygments_lexer": "ipython3",
   "version": "3.9.7"
  }
 },
 "nbformat": 4,
 "nbformat_minor": 5
}
