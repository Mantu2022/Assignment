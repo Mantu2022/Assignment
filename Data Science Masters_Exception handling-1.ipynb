{
 "cells": [
  {
   "cell_type": "code",
   "execution_count": null,
   "id": "77cb015a",
   "metadata": {},
   "outputs": [],
   "source": [
    "Q1. What is an Exception in python? Write the difference between Exceptions and syntax errors."
   ]
  },
  {
   "cell_type": "code",
   "execution_count": null,
   "id": "dc11731c",
   "metadata": {},
   "outputs": [],
   "source": [
    "An exception is an event that occurs during the execution of a program and disrupts the normal flow of the program's instructions. When an exceptional situation arises, such as an error or an unexpected condition, an exception is raised. This can be caused by various factors like invalid input, division by zero, file not found, or other runtime errors.\n",
    "\n",
    "Exceptions are objects that encapsulate information about the error, including the type of exception and a traceback that shows the sequence of function calls that led to the exception. They provide a way to handle and recover from errors in a controlled manner, preventing the program from terminating abruptly.\n",
    "\n",
    "Exceptions in Python can be handled using try-except statements. The code that may raise an exception is placed in the try block, and the exception handling code is placed in one or more except blocks. If an exception occurs within the try block, the corresponding except block is executed, allowing for proper error handling and recovery.\n",
    "\n",
    "On the other hand, syntax errors are errors that occur due to improper syntax or structure of the Python code. These errors are detected by the Python interpreter during the parsing or compilation phase, before the program is executed. Syntax errors indicate violations of the language rules and grammar, such as misspelled keywords, missing colons, incorrect indentation, or invalid variable names.\n",
    "\n",
    "Unlike exceptions, syntax errors cannot be caught or handled using try-except statements because they prevent the program from running altogether. When a syntax error is encountered, the Python interpreter raises a SyntaxError and provides information about the specific issue, including the line number and a description of the error.\n",
    "\n",
    "To summarize the difference:\n",
    "\n",
    "Exceptions are runtime errors that occur during the execution of a program, while syntax errors are detected by the interpreter during the parsing or compilation phase.\n",
    "Exceptions can be caught and handled using try-except statements, allowing for error recovery and controlled program flow. Syntax errors prevent the program from running and must be fixed in the code before execution.\n",
    "Exceptions are raised by the program itself or by the built-in functions and modules, while syntax errors are raised by the Python interpreter when it encounters invalid syntax or structure in the code."
   ]
  },
  {
   "cell_type": "code",
   "execution_count": null,
   "id": "05f0db32",
   "metadata": {},
   "outputs": [],
   "source": [
    "Q2. What happens when an exception is not handled? Explain with an example"
   ]
  },
  {
   "cell_type": "code",
   "execution_count": 1,
   "id": "88ef007e",
   "metadata": {},
   "outputs": [
    {
     "ename": "ZeroDivisionError",
     "evalue": "division by zero",
     "output_type": "error",
     "traceback": [
      "\u001b[1;31m---------------------------------------------------------------------------\u001b[0m",
      "\u001b[1;31mZeroDivisionError\u001b[0m                         Traceback (most recent call last)",
      "\u001b[1;32m~\\AppData\\Local\\Temp/ipykernel_4748/2391921084.py\u001b[0m in \u001b[0;36m<module>\u001b[1;34m\u001b[0m\n\u001b[0;32m     11\u001b[0m     \u001b[0mprint\u001b[0m\u001b[1;33m(\u001b[0m\u001b[1;34m\"Result:\"\u001b[0m\u001b[1;33m,\u001b[0m \u001b[0mresult\u001b[0m\u001b[1;33m)\u001b[0m\u001b[1;33m\u001b[0m\u001b[1;33m\u001b[0m\u001b[0m\n\u001b[0;32m     12\u001b[0m \u001b[1;33m\u001b[0m\u001b[0m\n\u001b[1;32m---> 13\u001b[1;33m \u001b[0mmain\u001b[0m\u001b[1;33m(\u001b[0m\u001b[1;33m)\u001b[0m\u001b[1;33m\u001b[0m\u001b[1;33m\u001b[0m\u001b[0m\n\u001b[0m",
      "\u001b[1;32m~\\AppData\\Local\\Temp/ipykernel_4748/2391921084.py\u001b[0m in \u001b[0;36mmain\u001b[1;34m()\u001b[0m\n\u001b[0;32m      8\u001b[0m     \u001b[0mnum1\u001b[0m \u001b[1;33m=\u001b[0m \u001b[1;36m10\u001b[0m\u001b[1;33m\u001b[0m\u001b[1;33m\u001b[0m\u001b[0m\n\u001b[0;32m      9\u001b[0m     \u001b[0mnum2\u001b[0m \u001b[1;33m=\u001b[0m \u001b[1;36m0\u001b[0m\u001b[1;33m\u001b[0m\u001b[1;33m\u001b[0m\u001b[0m\n\u001b[1;32m---> 10\u001b[1;33m     \u001b[0mresult\u001b[0m \u001b[1;33m=\u001b[0m \u001b[0mdivide\u001b[0m\u001b[1;33m(\u001b[0m\u001b[0mnum1\u001b[0m\u001b[1;33m,\u001b[0m \u001b[0mnum2\u001b[0m\u001b[1;33m)\u001b[0m\u001b[1;33m\u001b[0m\u001b[1;33m\u001b[0m\u001b[0m\n\u001b[0m\u001b[0;32m     11\u001b[0m     \u001b[0mprint\u001b[0m\u001b[1;33m(\u001b[0m\u001b[1;34m\"Result:\"\u001b[0m\u001b[1;33m,\u001b[0m \u001b[0mresult\u001b[0m\u001b[1;33m)\u001b[0m\u001b[1;33m\u001b[0m\u001b[1;33m\u001b[0m\u001b[0m\n\u001b[0;32m     12\u001b[0m \u001b[1;33m\u001b[0m\u001b[0m\n",
      "\u001b[1;32m~\\AppData\\Local\\Temp/ipykernel_4748/2391921084.py\u001b[0m in \u001b[0;36mdivide\u001b[1;34m(a, b)\u001b[0m\n\u001b[0;32m      3\u001b[0m \u001b[1;31m# Here's an example to illustrate what happens when an exception is not handled:\u001b[0m\u001b[1;33m\u001b[0m\u001b[1;33m\u001b[0m\u001b[0m\n\u001b[0;32m      4\u001b[0m \u001b[1;32mdef\u001b[0m \u001b[0mdivide\u001b[0m\u001b[1;33m(\u001b[0m\u001b[0ma\u001b[0m\u001b[1;33m,\u001b[0m \u001b[0mb\u001b[0m\u001b[1;33m)\u001b[0m\u001b[1;33m:\u001b[0m\u001b[1;33m\u001b[0m\u001b[1;33m\u001b[0m\u001b[0m\n\u001b[1;32m----> 5\u001b[1;33m     \u001b[1;32mreturn\u001b[0m \u001b[0ma\u001b[0m \u001b[1;33m/\u001b[0m \u001b[0mb\u001b[0m\u001b[1;33m\u001b[0m\u001b[1;33m\u001b[0m\u001b[0m\n\u001b[0m\u001b[0;32m      6\u001b[0m \u001b[1;33m\u001b[0m\u001b[0m\n\u001b[0;32m      7\u001b[0m \u001b[1;32mdef\u001b[0m \u001b[0mmain\u001b[0m\u001b[1;33m(\u001b[0m\u001b[1;33m)\u001b[0m\u001b[1;33m:\u001b[0m\u001b[1;33m\u001b[0m\u001b[1;33m\u001b[0m\u001b[0m\n",
      "\u001b[1;31mZeroDivisionError\u001b[0m: division by zero"
     ]
    }
   ],
   "source": [
    "#When an exception is not handled in Python, it leads to an unhandled exception, which typically causes the program to terminate abruptly. When an exception occurs and is not caught and handled by an appropriate except block, it propagates up the call stack until it reaches the top-level of the program. At that point, if the exception remains unhandled, the program terminates and an error message is displayed.\n",
    "\n",
    "# Here's an example to illustrate what happens when an exception is not handled:\n",
    "def divide(a, b):\n",
    "    return a / b\n",
    "\n",
    "def main():\n",
    "    num1 = 10\n",
    "    num2 = 0\n",
    "    result = divide(num1, num2)\n",
    "    print(\"Result:\", result)\n",
    "\n",
    "main()\n"
   ]
  },
  {
   "cell_type": "code",
   "execution_count": null,
   "id": "2222bcdf",
   "metadata": {},
   "outputs": [],
   "source": [
    "Q3. Which Python statements are used to catch and handle exceptions? Explain with an example."
   ]
  },
  {
   "cell_type": "code",
   "execution_count": null,
   "id": "0acbcfa8",
   "metadata": {},
   "outputs": [],
   "source": [
    "In Python, the try-except statement is used to catch and handle exceptions. The try block contains the code that may raise an exception, and the except block specifies the code to be executed if a specific exception occurs.\n",
    "\n",
    "Here's an example to demonstrate the usage of try-except statement for exception handling:"
   ]
  },
  {
   "cell_type": "code",
   "execution_count": 2,
   "id": "254d66c2",
   "metadata": {},
   "outputs": [
    {
     "name": "stdout",
     "output_type": "stream",
     "text": [
      "Result: 5.0\n",
      "Error: Division by zero is not allowed.\n"
     ]
    }
   ],
   "source": [
    "def divide(a, b):\n",
    "    try:\n",
    "        result = a / b\n",
    "        print(\"Result:\", result)\n",
    "    except ZeroDivisionError:\n",
    "        print(\"Error: Division by zero is not allowed.\")\n",
    "\n",
    "# Example usage\n",
    "divide(10, 2)  # Normal division\n",
    "divide(10, 0)  # Division by zero\n"
   ]
  },
  {
   "cell_type": "code",
   "execution_count": null,
   "id": "56a8c268",
   "metadata": {},
   "outputs": [],
   "source": [
    "Q4. Explain with an example: \n",
    "a. try  and else\n",
    "b. finally\n",
    "c. raise"
   ]
  },
  {
   "cell_type": "code",
   "execution_count": 3,
   "id": "e7976b57",
   "metadata": {},
   "outputs": [
    {
     "name": "stdout",
     "output_type": "stream",
     "text": [
      "Result: 5.0\n",
      "Error: Division by zero is not allowed.\n"
     ]
    }
   ],
   "source": [
    "A. try, except, and else:\n",
    "\n",
    "def divide(a, b):\n",
    "    try:\n",
    "        result = a / b\n",
    "    except ZeroDivisionError:\n",
    "        print(\"Error: Division by zero is not allowed.\")\n",
    "    else:\n",
    "        print(\"Result:\", result)\n",
    "\n",
    "divide(10, 2)  \n",
    "divide(10, 0)  \n"
   ]
  },
  {
   "cell_type": "code",
   "execution_count": 4,
   "id": "bcc8e970",
   "metadata": {},
   "outputs": [
    {
     "name": "stdout",
     "output_type": "stream",
     "text": [
      "Error: File not found.\n",
      "Error: File not found.\n"
     ]
    }
   ],
   "source": [
    "B. finally:\n",
    "\n",
    "The finally block is used to specify a block of code that will be executed regardless of whether an exception occurs or not. It is typically used for cleanup operations or finalization tasks that need to be performed regardless of the program flow.\n",
    "def open_and_read_file(file_path):\n",
    "    try:\n",
    "        file = open(file_path, 'r')\n",
    "        content = file.read()\n",
    "        print(\"File content:\", content)\n",
    "    except FileNotFoundError:\n",
    "        print(\"Error: File not found.\")\n",
    "    finally:\n",
    "        if 'file' in locals():\n",
    "            file.close()\n",
    "\n",
    "\n",
    "open_and_read_file(\"example.txt\")  \n",
    "open_and_read_file(\"nonexistent.txt\")\n"
   ]
  },
  {
   "cell_type": "code",
   "execution_count": 5,
   "id": "ea421b39",
   "metadata": {},
   "outputs": [
    {
     "name": "stdout",
     "output_type": "stream",
     "text": [
      "Result: 5.0\n"
     ]
    },
    {
     "ename": "ZeroDivisionError",
     "evalue": "Error: Division by zero.",
     "output_type": "error",
     "traceback": [
      "\u001b[1;31m---------------------------------------------------------------------------\u001b[0m",
      "\u001b[1;31mZeroDivisionError\u001b[0m                         Traceback (most recent call last)",
      "\u001b[1;32m~\\AppData\\Local\\Temp/ipykernel_4748/3099077989.py\u001b[0m in \u001b[0;36m<module>\u001b[1;34m\u001b[0m\n\u001b[0;32m     11\u001b[0m \u001b[1;31m# Example usage\u001b[0m\u001b[1;33m\u001b[0m\u001b[1;33m\u001b[0m\u001b[0m\n\u001b[0;32m     12\u001b[0m \u001b[0mdivide\u001b[0m\u001b[1;33m(\u001b[0m\u001b[1;36m10\u001b[0m\u001b[1;33m,\u001b[0m \u001b[1;36m2\u001b[0m\u001b[1;33m)\u001b[0m  \u001b[1;31m# Normal division\u001b[0m\u001b[1;33m\u001b[0m\u001b[1;33m\u001b[0m\u001b[0m\n\u001b[1;32m---> 13\u001b[1;33m \u001b[0mdivide\u001b[0m\u001b[1;33m(\u001b[0m\u001b[1;36m10\u001b[0m\u001b[1;33m,\u001b[0m \u001b[1;36m0\u001b[0m\u001b[1;33m)\u001b[0m  \u001b[1;31m# Division by zero\u001b[0m\u001b[1;33m\u001b[0m\u001b[1;33m\u001b[0m\u001b[0m\n\u001b[0m",
      "\u001b[1;32m~\\AppData\\Local\\Temp/ipykernel_4748/3099077989.py\u001b[0m in \u001b[0;36mdivide\u001b[1;34m(a, b)\u001b[0m\n\u001b[0;32m      4\u001b[0m \u001b[1;32mdef\u001b[0m \u001b[0mdivide\u001b[0m\u001b[1;33m(\u001b[0m\u001b[0ma\u001b[0m\u001b[1;33m,\u001b[0m \u001b[0mb\u001b[0m\u001b[1;33m)\u001b[0m\u001b[1;33m:\u001b[0m\u001b[1;33m\u001b[0m\u001b[1;33m\u001b[0m\u001b[0m\n\u001b[0;32m      5\u001b[0m     \u001b[1;32mif\u001b[0m \u001b[0mb\u001b[0m \u001b[1;33m==\u001b[0m \u001b[1;36m0\u001b[0m\u001b[1;33m:\u001b[0m\u001b[1;33m\u001b[0m\u001b[1;33m\u001b[0m\u001b[0m\n\u001b[1;32m----> 6\u001b[1;33m         \u001b[1;32mraise\u001b[0m \u001b[0mZeroDivisionError\u001b[0m\u001b[1;33m(\u001b[0m\u001b[1;34m\"Error: Division by zero.\"\u001b[0m\u001b[1;33m)\u001b[0m\u001b[1;33m\u001b[0m\u001b[1;33m\u001b[0m\u001b[0m\n\u001b[0m\u001b[0;32m      7\u001b[0m     \u001b[1;32melse\u001b[0m\u001b[1;33m:\u001b[0m\u001b[1;33m\u001b[0m\u001b[1;33m\u001b[0m\u001b[0m\n\u001b[0;32m      8\u001b[0m         \u001b[0mresult\u001b[0m \u001b[1;33m=\u001b[0m \u001b[0ma\u001b[0m \u001b[1;33m/\u001b[0m \u001b[0mb\u001b[0m\u001b[1;33m\u001b[0m\u001b[1;33m\u001b[0m\u001b[0m\n",
      "\u001b[1;31mZeroDivisionError\u001b[0m: Error: Division by zero."
     ]
    }
   ],
   "source": [
    "C. raise:\n",
    "\n",
    "The raise statement is used to explicitly raise an exception in Python. It allows you to create custom exceptions or raise built-in exceptions in specific situations. By raising an exception, you can indicate exceptional conditions or errors in your code.\n",
    "def divide(a, b):\n",
    "    if b == 0:\n",
    "        raise ZeroDivisionError(\"Error: Division by zero.\")\n",
    "    else:\n",
    "        result = a / b\n",
    "        print(\"Result:\", result)\n",
    "\n",
    "# Example usage\n",
    "divide(10, 2)  \n",
    "divide(10, 0) \n"
   ]
  },
  {
   "cell_type": "code",
   "execution_count": null,
   "id": "49b595a3",
   "metadata": {},
   "outputs": [],
   "source": [
    "Q5. What are Custom Exceptions in python? Why do we need Custom Exceptions? Explain with an example"
   ]
  },
  {
   "cell_type": "code",
   "execution_count": null,
   "id": "c94786d5",
   "metadata": {},
   "outputs": [],
   "source": [
    "Custom exceptions in Python are user-defined exceptions that allow you to create and raise your own specific exceptions to indicate exceptional conditions or errors in your code. These exceptions are created by defining a new class that inherits from the built-in Exception class or any of its subclasses.\n",
    "\n",
    "We need custom exceptions in Python for the following reasons:\n",
    "\n",
    "Specificity: Custom exceptions allow you to define and raise exceptions that are specific to your application or domain. By creating custom exceptions, you can provide more meaningful and descriptive error messages, making it easier to identify and handle exceptional conditions.\n",
    "\n",
    "Modularity: Custom exceptions help in organizing and structuring the error handling logic of your code. By defining specific exception classes, you can encapsulate the details of different exceptional situations in separate classes, improving code modularity and maintainability.\n",
    "\n",
    "Code Readability: Custom exceptions make your code more readable and self-explanatory. By using custom exception names that are relevant to your application domain, it becomes easier for other developers to understand the exceptional conditions and handle them appropriately."
   ]
  },
  {
   "cell_type": "code",
   "execution_count": 6,
   "id": "ae9f8c7d",
   "metadata": {},
   "outputs": [
    {
     "name": "stdout",
     "output_type": "stream",
     "text": [
      "Error: Invalid input provided.\n"
     ]
    }
   ],
   "source": [
    "class InvalidInputError(Exception):\n",
    "    pass\n",
    "\n",
    "def process_input(data):\n",
    "    if not data:\n",
    "        raise InvalidInputError(\"Error: Invalid input provided.\")\n",
    "    # Perform processing on valid input\n",
    "\n",
    "# Example usage\n",
    "try:\n",
    "    input_data = None  # Invalid input\n",
    "    process_input(input_data)\n",
    "except InvalidInputError as e:\n",
    "    print(e)\n"
   ]
  },
  {
   "cell_type": "code",
   "execution_count": null,
   "id": "a1710f5d",
   "metadata": {},
   "outputs": [],
   "source": [
    "Q6. Create a custom exception class. Use this class to handle an exception."
   ]
  },
  {
   "cell_type": "code",
   "execution_count": 7,
   "id": "91a38348",
   "metadata": {},
   "outputs": [
    {
     "name": "stdout",
     "output_type": "stream",
     "text": [
      "Error: Negative number -5 not allowed.\n"
     ]
    }
   ],
   "source": [
    "class NegativeNumberError(Exception):\n",
    "    def __init__(self, number):\n",
    "        self.number = number\n",
    "        super().__init__(f\"Error: Negative number {number} not allowed.\")\n",
    "\n",
    "def process_number(num):\n",
    "    if num < 0:\n",
    "        raise NegativeNumberError(num)\n",
    "    else:\n",
    "        print(\"Number processed successfully.\")\n",
    "\n",
    "# Example usage\n",
    "try:\n",
    "    number = -5\n",
    "    process_number(number)\n",
    "except NegativeNumberError as e:\n",
    "    print(e)\n"
   ]
  },
  {
   "cell_type": "code",
   "execution_count": null,
   "id": "d9fb7e4b",
   "metadata": {},
   "outputs": [],
   "source": []
  }
 ],
 "metadata": {
  "kernelspec": {
   "display_name": "Python 3 (ipykernel)",
   "language": "python",
   "name": "python3"
  },
  "language_info": {
   "codemirror_mode": {
    "name": "ipython",
    "version": 3
   },
   "file_extension": ".py",
   "mimetype": "text/x-python",
   "name": "python",
   "nbconvert_exporter": "python",
   "pygments_lexer": "ipython3",
   "version": "3.9.7"
  }
 },
 "nbformat": 4,
 "nbformat_minor": 5
}
