{
 "cells": [
  {
   "cell_type": "code",
   "execution_count": null,
   "id": "86f3a47f",
   "metadata": {},
   "outputs": [],
   "source": [
    "Q1. What is a database? Differentiate between SQL and NoSQL databases."
   ]
  },
  {
   "cell_type": "code",
   "execution_count": null,
   "id": "cfa921a9",
   "metadata": {},
   "outputs": [],
   "source": [
    "A database is an organized collection of data stored and managed in a structured manner. It provides a way to store, retrieve, update, and manage large amounts of data efficiently. Databases are used in various applications and systems, ranging from small-scale applications to large enterprise systems.\n",
    "\n",
    "SQL (Structured Query Language) and NoSQL (Not only SQL) are two different types of database management systems that differ in their data models, querying languages, and underlying principles. Here's a differentiation between SQL and NoSQL databases:\n",
    "SQL Databases:\n",
    "1. Data Model: SQL databases use a relational data model, where data is organized into tables with predefined schemas. The relationships between tables are defined through keys (primary and foreign keys).\n",
    "\n",
    "2. Query Language: SQL databases use the SQL language for querying and manipulating data. SQL provides a standardized way to interact with the database, allowing users to perform operations like SELECT, INSERT, UPDATE, and DELETE.\n",
    "\n",
    "3. Data Integrity: SQL databases enforce data integrity through various constraints such as unique, not null, and referential integrity constraints. These constraints ensure the consistency and validity of the data.\n",
    "\n",
    "4. Scalability: SQL databases are generally vertically scalable, meaning they are designed to handle increasing loads by adding more resources to a single server.\n",
    "\n",
    "NoSQL Databases:\n",
    "    \n",
    "1. Data Model: NoSQL databases use various data models such as key-value, document, columnar, or graph models. These models provide flexibility in organizing and representing data, allowing for schema-less or dynamic schemas.\n",
    "\n",
    "2. Query Language: NoSQL databases may not use SQL as the query language. Instead, they often provide APIs or query languages specific to their data model, such as MongoDB's query language for document databases.\n",
    "\n",
    "3. Scalability: NoSQL databases are designed for horizontal scalability, meaning they can scale out by adding more servers to distribute the data across multiple nodes. This enables handling large amounts of data and high read/write loads.\n",
    "\n",
    "4. Flexibility: NoSQL databases offer greater flexibility in handling unstructured or semi-structured data and evolving schemas. They are well-suited for use cases where data models and requirements are not clearly defined or may change over time.    "
   ]
  },
  {
   "cell_type": "code",
   "execution_count": null,
   "id": "fad5c305",
   "metadata": {},
   "outputs": [],
   "source": [
    "Q2. What is DDL? Explain why CREATE, DROP, ALTER, and TRUNCATE are used with an example."
   ]
  },
  {
   "cell_type": "code",
   "execution_count": null,
   "id": "b09b4899",
   "metadata": {},
   "outputs": [],
   "source": [
    "DDL stands for Data Definition Language. It is a subset of SQL (Structured Query Language) that deals with defining and managing the structure of the database schema. DDL statements are used to create, modify, and delete database objects such as tables, indexes, views, and constraints.\n",
    "\n",
    "Here's an explanation of the commonly used DDL statements with examples:\n",
    "\n",
    "1. CREATE: The CREATE statement is used to create a new database object, such as a table, view, or index. It defines the structure of the object and specifies various attributes and constraints.\n",
    "2. DROP: The DROP statement is used to delete an existing database object, such as a table or view, along with its associated data. It permanently removes the object from the database.\n",
    "3. ALTER: The ALTER statement is used to modify the structure of an existing database object, such as adding or deleting columns, modifying data types, or adding constraints.\n",
    "4. TRUNCATE: The TRUNCATE statement is used to remove all the data from a table while keeping its structure intact. It is faster than the DELETE statement as it does not log individual row deletions.\n",
    "    "
   ]
  },
  {
   "cell_type": "code",
   "execution_count": null,
   "id": "154c34c0",
   "metadata": {},
   "outputs": [],
   "source": [
    "Q3. What is DML? Explain INSERT, UPDATE, and DELETE with an example."
   ]
  },
  {
   "cell_type": "code",
   "execution_count": null,
   "id": "b5ca85c8",
   "metadata": {},
   "outputs": [],
   "source": [
    "DML stands for Data Manipulation Language. It is a subset of SQL (Structured Query Language) that is used to manipulate or change data stored in a database. DML statements are used to insert, update, and delete records in database tables.\n",
    "\n",
    "Here's an explanation of the commonly used DML statements with examples:\n",
    "\n",
    "1. INSERT: The INSERT statement is used to add new records or rows into a table. It specifies the table name and the values to be inserted into the corresponding columns.\n",
    "2. UPDATE: The UPDATE statement is used to modify or update existing records in a table. It specifies the table name, the columns to be updated, and the new values.\n",
    "3. DELETE: The DELETE statement is used to remove one or more records from a table. It specifies the table name and a condition that determines which records should be deleted.\n",
    "    "
   ]
  },
  {
   "cell_type": "code",
   "execution_count": null,
   "id": "81c20f4f",
   "metadata": {},
   "outputs": [],
   "source": [
    "Q4. What is DQL? Explain SELECT with an example."
   ]
  },
  {
   "cell_type": "code",
   "execution_count": null,
   "id": "a2394e7f",
   "metadata": {},
   "outputs": [],
   "source": [
    "DQL stands for Data Query Language. It is a subset of SQL (Structured Query Language) that is used to retrieve and query data from a database. DQL focuses on the SELECT statement, which is used to retrieve specific data from one or more tables based on specified criteria.\n",
    "\n",
    "The SELECT statement allows you to retrieve data based on various conditions, such as filtering rows, sorting data, joining tables, and performing aggregate functions. "
   ]
  },
  {
   "cell_type": "code",
   "execution_count": null,
   "id": "8525daba",
   "metadata": {},
   "outputs": [],
   "source": [
    "Q5. Explain Primary Key and Foreign Key."
   ]
  },
  {
   "cell_type": "code",
   "execution_count": null,
   "id": "01a82b7b",
   "metadata": {},
   "outputs": [],
   "source": [
    "A primary key is a column or a set of columns in a database table that uniquely identifies each record or row in the table. It ensures the uniqueness and integrity of the data in the table. The primary key serves as a unique identifier for each record and is used to enforce data integrity constraints.\n",
    "\n",
    "Key characteristics of a primary key:\n",
    "\n",
    "1. Uniqueness: Each value in the primary key column(s) must be unique. No two records in the table can have the same primary key value.\n",
    "2. Non-nullability: The primary key column(s) cannot contain null values. Each record must have a valid primary key value.\n",
    "3. Immutable: The primary key value(s) should not be changed once assigned to a record. This ensures stability and consistency of the primary key.\n",
    "Foreign Key:\n",
    "A foreign key is a column or a set of columns in a database table that refers to the primary key of another table. It establishes a link or relationship between two tables based on the values of the foreign key and the primary key. The foreign key constraint ensures referential integrity between related tables.\n",
    "\n",
    "Key characteristics of a foreign key:\n",
    "\n",
    "1. Referential Integrity: The foreign key ensures that values in the foreign key column(s) of a table match with the values in the primary key column(s) of another table. It establishes a relationship between the two tables.\n",
    "2. Relationship: The foreign key represents the relationship between two tables, typically denoting a parent-child relationship.\n",
    "3. Constraint: The foreign key constraint enforces rules on data manipulation, ensuring that the foreign key values are valid and consistent.    "
   ]
  },
  {
   "cell_type": "code",
   "execution_count": null,
   "id": "8c12d105",
   "metadata": {},
   "outputs": [],
   "source": [
    "Q6. Write a python code to connect MySQL to python. Explain the cursor() and execute() method."
   ]
  },
  {
   "cell_type": "code",
   "execution_count": 2,
   "id": "e789942c",
   "metadata": {},
   "outputs": [],
   "source": [
    "# To connect MySQL to Python, we can use the mysql-connector-python library. Here's an example code that demonstrates connecting to MySQL and executing a query using the cursor() and execute() methods:\n",
    "import mysql.connector\n",
    "\n",
    "\n",
    "mydb = mysql.connector.connect(\n",
    "    host=\"localhost\",\n",
    "    user=\"yourusername\",\n",
    "    password=\"yourpassword\",\n",
    "    database=\"yourdatabase\"\n",
    ")\n",
    "\n",
    "\n",
    "cursor = mydb.cursor()\n",
    "\n",
    "\n",
    "query = \"SELECT * FROM customers\"\n",
    "cursor.execute(query)\n",
    "\n",
    "\n",
    "result = cursor.fetchall()\n",
    "\n",
    "\n",
    "for row in result:\n",
    "    print(row)\n",
    "\n",
    "\n",
    "cursor.close()\n",
    "mydb.close()\n"
   ]
  },
  {
   "cell_type": "code",
   "execution_count": null,
   "id": "4bbdfd3d",
   "metadata": {},
   "outputs": [],
   "source": [
    "Q7. Give the order of execution of SQL clauses in an SQL query."
   ]
  },
  {
   "cell_type": "code",
   "execution_count": null,
   "id": "731b0fbc",
   "metadata": {},
   "outputs": [],
   "source": [
    "The order of execution of SQL clauses in an SQL query typically follows these steps:\n",
    "\n",
    "1. FROM: The FROM clause specifies the tables or views from which the data will be retrieved.\n",
    "\n",
    "2. WHERE: The WHERE clause filters the rows based on specified conditions.\n",
    "\n",
    "3. GROUP BY: The GROUP BY clause groups the rows based on one or more columns.\n",
    "\n",
    "4. HAVING: The HAVING clause filters the grouped rows based on specified conditions.\n",
    "\n",
    "5. SELECT: The SELECT clause selects the columns to be retrieved from the tables or views.\n",
    "\n",
    "6. DISTINCT: The DISTINCT keyword eliminates duplicate rows from the result set.\n",
    "\n",
    "7. ORDER BY: The ORDER BY clause sorts the result set based on specified columns.\n",
    "\n",
    "8. LIMIT/OFFSET: The LIMIT clause restricts the number of rows returned in the result set, and the OFFSET clause skips a specified number of rows."
   ]
  },
  {
   "cell_type": "code",
   "execution_count": null,
   "id": "f6f74b04",
   "metadata": {},
   "outputs": [],
   "source": []
  }
 ],
 "metadata": {
  "kernelspec": {
   "display_name": "Python 3 (ipykernel)",
   "language": "python",
   "name": "python3"
  },
  "language_info": {
   "codemirror_mode": {
    "name": "ipython",
    "version": 3
   },
   "file_extension": ".py",
   "mimetype": "text/x-python",
   "name": "python",
   "nbconvert_exporter": "python",
   "pygments_lexer": "ipython3",
   "version": "3.9.7"
  }
 },
 "nbformat": 4,
 "nbformat_minor": 5
}
