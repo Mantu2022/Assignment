{
 "cells": [
  {
   "cell_type": "code",
   "execution_count": null,
   "id": "e3f6fdfd",
   "metadata": {},
   "outputs": [],
   "source": [
    "# Q1. What are the characteristics of the tuples? Is tuple immutable?"
   ]
  },
  {
   "cell_type": "code",
   "execution_count": null,
   "id": "da58f5c8",
   "metadata": {},
   "outputs": [],
   "source": [
    "Tuples are list which cannot be changed or ordered collection of different data types. Yes, tuple is immutable."
   ]
  },
  {
   "cell_type": "code",
   "execution_count": null,
   "id": "da16c352",
   "metadata": {},
   "outputs": [],
   "source": [
    "# Q2. What are the two tuple methods in python? Give an example of each method. Give a reason why\n",
    "# tuples have only two in-built methods as compared to Lists."
   ]
  },
  {
   "cell_type": "code",
   "execution_count": null,
   "id": "41f03725",
   "metadata": {},
   "outputs": [],
   "source": [
    "Count() and index() are two tuple methods in python."
   ]
  },
  {
   "cell_type": "code",
   "execution_count": 10,
   "id": "51a1c416",
   "metadata": {},
   "outputs": [
    {
     "data": {
      "text/plain": [
       "2"
      ]
     },
     "execution_count": 10,
     "metadata": {},
     "output_type": "execute_result"
    }
   ],
   "source": [
    "# Example1.\n",
    "T1 = (1,2,3,1,5,6)\n",
    "T1.count(1)"
   ]
  },
  {
   "cell_type": "code",
   "execution_count": 11,
   "id": "ead2d8e2",
   "metadata": {},
   "outputs": [
    {
     "data": {
      "text/plain": [
       "0"
      ]
     },
     "execution_count": 11,
     "metadata": {},
     "output_type": "execute_result"
    }
   ],
   "source": [
    "# Example2.\n",
    "T1 = (1,2,3,1,5,6)\n",
    "T1.index(1)"
   ]
  },
  {
   "cell_type": "code",
   "execution_count": null,
   "id": "b59565b8",
   "metadata": {},
   "outputs": [],
   "source": [
    "Immutability is a reason why tuples have only two in-built methods as compared to Lists."
   ]
  },
  {
   "cell_type": "code",
   "execution_count": null,
   "id": "232337af",
   "metadata": {},
   "outputs": [],
   "source": [
    "# Q3. Which collection datatypes in python do not allow duplicate items? Write a code using a set to remove\n",
    "# duplicates from the given list."
   ]
  },
  {
   "cell_type": "code",
   "execution_count": 19,
   "id": "c548d67d",
   "metadata": {},
   "outputs": [
    {
     "data": {
      "text/plain": [
       "{1, 2, 3, 4}"
      ]
     },
     "execution_count": 19,
     "metadata": {},
     "output_type": "execute_result"
    }
   ],
   "source": [
    "# Set datatypes in python do not allow duplicate items. \n",
    "List = [1, 1, 1, 2, 1, 3, 1, 4, 2, 1, 2, 2, 2, 3, 2, 4, 3, 1, 3, 2, 3, 3, 3, 4, 4, 1, 4, 2, 4, 3, 4, 4]\n",
    "set(List)"
   ]
  },
  {
   "cell_type": "code",
   "execution_count": null,
   "id": "f77016ee",
   "metadata": {},
   "outputs": [],
   "source": [
    "# Q4. Explain the difference between the union() and update() methods for a set. Give an example of\n",
    "# each method."
   ]
  },
  {
   "cell_type": "code",
   "execution_count": 28,
   "id": "9aea1b8d",
   "metadata": {},
   "outputs": [
    {
     "data": {
      "text/plain": [
       "{1, 2, 3, 4, 5, 6, 7, 8, 9}"
      ]
     },
     "execution_count": 28,
     "metadata": {},
     "output_type": "execute_result"
    }
   ],
   "source": [
    "#This method is used to return the union of a set and the set of elements from one or more \n",
    "#iterable like string, list, set. This method takes arbitrary number of iterable objects as \n",
    "#argument, which means one or more iterable can be passed. If iterable other than set is passed,\n",
    "#it first converts the iterable object to set object and then perform the union operation. \n",
    "#It returns a newly created set, which contains all the elements ( distinct ) present in all \n",
    "#the iterables.\n",
    "A = {1,2,3,4,5}\n",
    "B = {4,5,6,7,8,9}\n",
    "S = A.union(B)\n",
    "S"
   ]
  },
  {
   "cell_type": "code",
   "execution_count": 34,
   "id": "e256af66",
   "metadata": {},
   "outputs": [
    {
     "data": {
      "text/plain": [
       "{1, 2, 3, 4, 5, 6, 7, 8, 9}"
      ]
     },
     "execution_count": 34,
     "metadata": {},
     "output_type": "execute_result"
    }
   ],
   "source": [
    "#This method is used to return the union of a set and the set of elements from one or more iterable like string, list, set. It is very similar to union() method, with difference is that where union() method create and return a new set, containing all the elements ( distinct ) present in all the iterables, update() method updates the set on which this method is called with all the distinct elements present in all the iterables.\n",
    "\n",
    "A = {1,2,3,4,5}\n",
    "B = {4,5,6,7,8,9}\n",
    "A.update(B)\n",
    "A"
   ]
  },
  {
   "cell_type": "code",
   "execution_count": null,
   "id": "46da7e03",
   "metadata": {},
   "outputs": [],
   "source": [
    "# Q5. What is a dictionary? Give an example. Also, state whether a dictionary is ordered or unordered."
   ]
  },
  {
   "cell_type": "code",
   "execution_count": 1,
   "id": "17a1fb4c",
   "metadata": {},
   "outputs": [
    {
     "name": "stdout",
     "output_type": "stream",
     "text": [
      "{1: 'One', 2: 'Two', 3: 'Three'}\n"
     ]
    }
   ],
   "source": [
    "Python dictionary is an ordered collection (starting from Python 3.7) of items. \n",
    "It stores elements in key/value pairs. Here, keys are unique identifiers that are associated with each value.\n",
    "Dictionary is ordered.\n",
    "Example :\n",
    "numbers = {1: \"One\", 2: \"Two\", 3: \"Three\"}\n",
    "print(numbers)"
   ]
  },
  {
   "cell_type": "code",
   "execution_count": null,
   "id": "1be50402",
   "metadata": {},
   "outputs": [],
   "source": [
    "Q6. Can we create a nested dictionary? If so, please give an example by creating a simple one-level\n",
    "nested dictionary."
   ]
  },
  {
   "cell_type": "code",
   "execution_count": 3,
   "id": "ca924e66",
   "metadata": {},
   "outputs": [
    {
     "data": {
      "text/plain": [
       "{1: {'name': 'John', 'age': '27', 'sex': 'Male'},\n",
       " 2: {'name': 'Marie', 'age': '22', 'sex': 'Female'}}"
      ]
     },
     "execution_count": 3,
     "metadata": {},
     "output_type": "execute_result"
    }
   ],
   "source": [
    "# A nested dictionary is a dictionary inside a dictionary.\n",
    "people = {1: {'name': 'John', 'age': '27', 'sex': 'Male'},\n",
    "          2: {'name': 'Marie', 'age': '22', 'sex': 'Female'}}\n",
    "\n",
    "people"
   ]
  },
  {
   "cell_type": "code",
   "execution_count": 5,
   "id": "20f77711",
   "metadata": {},
   "outputs": [
    {
     "data": {
      "text/plain": [
       "\"['Python', 'Machine Learning’, 'Deep Learning']\""
      ]
     },
     "execution_count": 5,
     "metadata": {},
     "output_type": "execute_result"
    }
   ],
   "source": [
    "#Q7. Using setdefault() method, create key named topics in the given dictionary and also add the value of\n",
    "#the key as this list ['Python', 'Machine Learning’, 'Deep Learning']\n",
    "dict1 = {'language' : 'Python', 'course': 'Data Science Masters'}\n",
    "x = dict1.setdefault(\"Data Science\", \"['Python', 'Machine Learning’, 'Deep Learning']\")\n",
    "x"
   ]
  },
  {
   "cell_type": "code",
   "execution_count": null,
   "id": "66ea2bbb",
   "metadata": {},
   "outputs": [],
   "source": [
    "Q8. What are the three view objects in dictionaries? Use the three in-built methods in python to display\n",
    "these three view objects for the given dictionary.\n",
    "dict1 = {'Sport': 'Cricket' , 'Teams': ['India', 'Australia', 'England', 'South Africa', 'Sri Lanka', 'New Zealand']}"
   ]
  },
  {
   "cell_type": "code",
   "execution_count": 14,
   "id": "2728a9c5",
   "metadata": {},
   "outputs": [
    {
     "data": {
      "text/plain": [
       "dict_keys(['Sport', 'Teams'])"
      ]
     },
     "execution_count": 14,
     "metadata": {},
     "output_type": "execute_result"
    }
   ],
   "source": [
    "#The main view objects of dictionary in python are keys, values and items.\n",
    "#They provide a non-constant view of the dictionary’s entries.\n",
    "\n",
    "dict1 = {'Sport': 'Cricket' , 'Teams': ['India', 'Australia', 'England', 'South Africa', 'Sri Lanka', 'New Zealand']}\n",
    "keys = dict1.keys()\n",
    "keys"
   ]
  },
  {
   "cell_type": "code",
   "execution_count": 17,
   "id": "0b3202c7",
   "metadata": {},
   "outputs": [
    {
     "data": {
      "text/plain": [
       "dict_items([('Sport', 'Cricket'), ('Teams', ['India', 'Australia', 'England', 'South Africa', 'Sri Lanka', 'New Zealand'])])"
      ]
     },
     "execution_count": 17,
     "metadata": {},
     "output_type": "execute_result"
    }
   ],
   "source": [
    "dict1 = {'Sport': 'Cricket' , 'Teams': ['India', 'Australia', 'England', 'South Africa', 'Sri Lanka', 'New Zealand']}\n",
    "item = dict1.items()\n",
    "item"
   ]
  },
  {
   "cell_type": "code",
   "execution_count": 16,
   "id": "a6b0233a",
   "metadata": {},
   "outputs": [
    {
     "data": {
      "text/plain": [
       "dict_values(['Cricket', ['India', 'Australia', 'England', 'South Africa', 'Sri Lanka', 'New Zealand']])"
      ]
     },
     "execution_count": 16,
     "metadata": {},
     "output_type": "execute_result"
    }
   ],
   "source": [
    "dict1 = {'Sport': 'Cricket' , 'Teams': ['India', 'Australia', 'England', 'South Africa', 'Sri Lanka', 'New Zealand']}\n",
    "value = dict1.values()\n",
    "value"
   ]
  },
  {
   "cell_type": "code",
   "execution_count": null,
   "id": "13902495",
   "metadata": {},
   "outputs": [],
   "source": []
  },
  {
   "cell_type": "code",
   "execution_count": null,
   "id": "946fd242",
   "metadata": {},
   "outputs": [],
   "source": []
  }
 ],
 "metadata": {
  "kernelspec": {
   "display_name": "Python 3 (ipykernel)",
   "language": "python",
   "name": "python3"
  },
  "language_info": {
   "codemirror_mode": {
    "name": "ipython",
    "version": 3
   },
   "file_extension": ".py",
   "mimetype": "text/x-python",
   "name": "python",
   "nbconvert_exporter": "python",
   "pygments_lexer": "ipython3",
   "version": "3.9.7"
  }
 },
 "nbformat": 4,
 "nbformat_minor": 5
}
