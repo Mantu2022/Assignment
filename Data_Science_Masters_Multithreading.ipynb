{
 "cells": [
  {
   "cell_type": "code",
   "execution_count": null,
   "id": "6c3431a1",
   "metadata": {},
   "outputs": [],
   "source": [
    "Q1. What is multithreading in python? Why is it used? Name the module used to handle threads in python."
   ]
  },
  {
   "cell_type": "code",
   "execution_count": null,
   "id": "b6ea5d50",
   "metadata": {},
   "outputs": [],
   "source": [
    "Multithreading in Python refers to the concurrent execution of multiple threads within a single process. A thread is a lightweight unit of execution that consists of a sequence of instructions that can be scheduled and run independently. Multithreading allows for concurrent execution of multiple tasks within a program, enhancing performance and responsiveness.\n",
    "\n",
    "Multithreading is used in Python for several reasons:\n",
    "\n",
    "1. Concurrency: Multithreading enables concurrent execution of tasks, allowing different parts of a program to run simultaneously. This is particularly useful for handling multiple I/O-bound or blocking operations, such as network requests or file operations, where threads can work independently without blocking the entire program.\n",
    "\n",
    "2. Parallelism: Although the Global Interpreter Lock (GIL) in CPython prevents true parallel execution of Python bytecode across multiple threads, multithreading can still provide benefits in certain scenarios. It allows for parallel execution when threads are performing tasks that release the GIL, such as I/O operations or calling external libraries written in languages without a GIL.\n",
    "\n",
    "3. Responsiveness: Multithreading can improve the responsiveness of an application by allowing certain tasks to be executed in the background while the main thread remains responsive to user interactions. For example, a user interface can update and respond to user input while a separate thread performs lengthy calculations or data processing.\n",
    "\n",
    "Threading is the module used to handle threads in python."
   ]
  },
  {
   "cell_type": "code",
   "execution_count": null,
   "id": "742e709a",
   "metadata": {},
   "outputs": [],
   "source": [
    "Q2. Why threading module used? Write the use of the following functions\n",
    "1. activeCount()\n",
    "2. currentThread()\n",
    "3. enumerate()"
   ]
  },
  {
   "cell_type": "code",
   "execution_count": 2,
   "id": "1cffddc6",
   "metadata": {},
   "outputs": [
    {
     "name": "stdout",
     "output_type": "stream",
     "text": [
      "Thread taskActive threads: 7\n",
      "\n"
     ]
    }
   ],
   "source": [
    "#The threading module in Python is used for creating and managing threads. It provides a high-level interface and functions to work with threads effectively.\n",
    "#1. activeCount(): The activeCount() function is used to retrieve the number of currently active threads in the program. It returns the count of all Thread objects currently alive, including the main thread. This function is useful for monitoring the number of active threads and can be used for debugging or performance analysis.\n",
    "import threading\n",
    "\n",
    "def task():\n",
    "    print(\"Thread task\")\n",
    "\n",
    "# Create and start a thread\n",
    "thread = threading.Thread(target=task)\n",
    "thread.start()\n",
    "\n",
    "# Get the count of active threads\n",
    "count = threading.activeCount()\n",
    "print(\"Active threads:\", count)\n"
   ]
  },
  {
   "cell_type": "code",
   "execution_count": 3,
   "id": "dd5caaff",
   "metadata": {},
   "outputs": [
    {
     "name": "stdout",
     "output_type": "stream",
     "text": [
      "Current thread name: Thread-9\n"
     ]
    }
   ],
   "source": [
    "#2. currentThread(): The currentThread() function returns the currently executing Thread object. It allows you to access and manipulate the attributes and behavior of the thread from which it is called.\n",
    "import threading\n",
    "\n",
    "def task():\n",
    "    current_thread = threading.currentThread()\n",
    "    print(\"Current thread name:\", current_thread.name)\n",
    "\n",
    "# Create and start a thread\n",
    "thread = threading.Thread(target=task)\n",
    "thread.start()\n"
   ]
  },
  {
   "cell_type": "code",
   "execution_count": 4,
   "id": "9be2b690",
   "metadata": {},
   "outputs": [
    {
     "name": "stdout",
     "output_type": "stream",
     "text": [
      "Thread task\n",
      "Thread task\n",
      "Thread task\n",
      "Thread task\n",
      "Thread taskThread name: MainThread\n",
      "Thread name: Thread-6\n",
      "Thread name: Thread-7\n",
      "Thread name: Thread-5\n",
      "Thread name: IPythonHistorySavingThread\n",
      "Thread name: Thread-4\n",
      "Thread name: Thread-14\n",
      "\n"
     ]
    }
   ],
   "source": [
    "#3. enumerate(): The enumerate() function returns a list of all currently active Thread objects. It is useful for obtaining a list of all threads currently alive in the program and allows you to perform operations on each thread.\n",
    "import threading\n",
    "\n",
    "def task():\n",
    "    print(\"Thread task\")\n",
    "\n",
    "# Create and start multiple threads\n",
    "threads = []\n",
    "for _ in range(5):\n",
    "    thread = threading.Thread(target=task)\n",
    "    threads.append(thread)\n",
    "    thread.start()\n",
    "\n",
    "# Enumerate all active threads\n",
    "all_threads = threading.enumerate()\n",
    "for thread in all_threads:\n",
    "    print(\"Thread name:\", thread.name)\n"
   ]
  },
  {
   "cell_type": "code",
   "execution_count": null,
   "id": "e331f661",
   "metadata": {},
   "outputs": [],
   "source": [
    "Q3. Explain the following functions\n",
    "1. run()\n",
    "2. start()\n",
    "3. join()\n",
    "4. isAlive()"
   ]
  },
  {
   "cell_type": "code",
   "execution_count": 5,
   "id": "92f97481",
   "metadata": {},
   "outputs": [
    {
     "name": "stdout",
     "output_type": "stream",
     "text": [
      "Executing task\n"
     ]
    }
   ],
   "source": [
    "#1. run(): The run() method is the entry point for the thread's activity. When a Thread object is created, you can specify a target function or method that will be executed in a separate thread. The run() method represents the body of that function or method. It is automatically called when you start the thread by calling the start() method. If you directly call the run() method without starting the thread, it will execute the target function or method in the current thread rather than creating a new thread.\n",
    "import threading\n",
    "\n",
    "def task():\n",
    "    print(\"Executing task\")\n",
    "\n",
    "thread = threading.Thread(target=task)\n",
    "\n",
    "thread.run()\n"
   ]
  },
  {
   "cell_type": "code",
   "execution_count": 6,
   "id": "ca9cc851",
   "metadata": {},
   "outputs": [
    {
     "name": "stdout",
     "output_type": "stream",
     "text": [
      "Executing task\n"
     ]
    }
   ],
   "source": [
    "#2. start(): The start() method is used to start the execution of a thread. When you create a Thread object and specify a target function, the actual execution of that function in a separate thread is initiated by calling the start() method. The start() method internally calls the run() method to execute the target function or method in a new thread. After starting a thread, you can continue with the execution of other code in the main thread or start other threads.\n",
    "import threading\n",
    "\n",
    "def task():\n",
    "    print(\"Executing task\")\n",
    "\n",
    "thread = threading.Thread(target=task)\n",
    "\n",
    "thread.start()\n"
   ]
  },
  {
   "cell_type": "code",
   "execution_count": 7,
   "id": "1bbbcdce",
   "metadata": {},
   "outputs": [
    {
     "name": "stdout",
     "output_type": "stream",
     "text": [
      "Executing task\n",
      "Thread execution completed\n"
     ]
    }
   ],
   "source": [
    "#3. join(): The join() method is used to wait for a thread to complete its execution. When a thread is started using the start() method, the main thread can call the join() method on the thread object to wait for the thread to finish before proceeding with further code execution. The join() method blocks the main thread until the thread being joined completes.\n",
    "import threading\n",
    "\n",
    "def task():\n",
    "    print(\"Executing task\")\n",
    "\n",
    "thread = threading.Thread(target=task)\n",
    "\n",
    "thread.start()\n",
    "\n",
    "thread.join()\n",
    "\n",
    "print(\"Thread execution completed\")"
   ]
  },
  {
   "cell_type": "code",
   "execution_count": 11,
   "id": "4a4642d5",
   "metadata": {},
   "outputs": [],
   "source": [
    "#4. isAlive(): The isAlive() method is used to check whether a thread is currently active or alive. It returns True if the thread is still executing or has not yet finished, and False otherwise. The isAlive() method is useful when you want to check the status of a thread and make decisions based on its execution state.\n",
    "import threading\n",
    "\n",
    "def task():\n",
    "    print(\"Executing task\")\n",
    "\n",
    "# Create a Thread object with the target function\n",
    "thread = threading.Thread(target=task)\n",
    "\n",
    "# Start the thread\n",
    "thread.start()\n",
    "\n",
    "# Check if the thread is alive using the isAlive() method\n",
    "if thread.isAlive():\n",
    "    print(\"Thread is still running\")\n",
    "else:\n",
    "    print(\"Thread has finished\")\n",
    "\n",
    "print(\"Continuing with the main thread\")\n"
   ]
  },
  {
   "cell_type": "code",
   "execution_count": null,
   "id": "48397fba",
   "metadata": {},
   "outputs": [],
   "source": [
    "4. write a python program to create two threads. Thread one must print the list of squares and thread\n",
    "two must print the list of cubes"
   ]
  },
  {
   "cell_type": "code",
   "execution_count": 13,
   "id": "34db57c7",
   "metadata": {},
   "outputs": [
    {
     "name": "stdout",
     "output_type": "stream",
     "text": [
      "Square of 1 is 1\n",
      "Square of 2 is 4\n",
      "Square of 3 is 9\n",
      "Square of 4 is 16\n",
      "Square of 5 is 25\n",
      "Cube of 1 is 1\n",
      "Cube of 2 is 8\n",
      "Cube of 3 is 27\n",
      "Cube of 4 is 64\n",
      "Cube of 5 is 125\n",
      "Finished executing threads\n"
     ]
    }
   ],
   "source": [
    "import threading\n",
    "\n",
    "def print_squares():\n",
    "    for i in range(1, 6):\n",
    "        print(f\"Square of {i} is {i**2}\")\n",
    "\n",
    "def print_cubes():\n",
    "    for i in range(1, 6):\n",
    "        print(f\"Cube of {i} is {i**3}\")\n",
    "\n",
    "thread_squares = threading.Thread(target=print_squares)\n",
    "\n",
    "thread_cubes = threading.Thread(target=print_cubes)\n",
    "\n",
    "thread_squares.start()\n",
    "thread_cubes.start()\n",
    "\n",
    "thread_squares.join()\n",
    "thread_cubes.join()\n",
    "\n",
    "print(\"Finished executing threads\")\n"
   ]
  },
  {
   "cell_type": "code",
   "execution_count": null,
   "id": "b4435a8f",
   "metadata": {},
   "outputs": [],
   "source": [
    "Q5. State advantages and disadvantages of multithreading"
   ]
  },
  {
   "cell_type": "code",
   "execution_count": null,
   "id": "3c38db0c",
   "metadata": {},
   "outputs": [],
   "source": [
    "Advantages of Multithreading:\n",
    "1. Concurrency: Multithreading allows for concurrent execution of tasks, enabling different parts of a program to run simultaneously. This can improve the overall performance and responsiveness of the application, especially in scenarios where multiple I/O-bound or blocking operations are involved.\n",
    "\n",
    "2. Resource Sharing: Threads within the same process share the same memory space, allowing them to access and share data efficiently. This can be beneficial when multiple tasks need to operate on shared data structures or communicate with each other.\n",
    "\n",
    "3. Responsiveness: By using multithreading, long-running tasks can be executed in the background while the main thread remains responsive to user interactions. This can prevent the user interface from freezing and enhance the user experience.\n",
    "\n",
    "4. Efficient Resource Utilization: Multithreading can maximize the utilization of available system resources, such as CPU cores. When one thread is waiting for I/O or other blocking operations, other threads can continue their execution, effectively utilizing the CPU's processing power.\n",
    "\n",
    "Disadvantages of Multithreading:\n",
    "\n",
    "1. Complexity: Multithreaded programming introduces complexity and can be more challenging to design, implement, and debug compared to single-threaded programs. Managing shared resources and synchronizing access to them requires careful consideration to avoid issues such as race conditions, deadlocks, and thread synchronization problems.\n",
    "\n",
    "2. Increased Overhead: The creation, switching, and management of threads involve overhead in terms of memory consumption and CPU cycles. Creating too many threads or frequently switching between threads can result in decreased performance and increased overhead.\n",
    "\n",
    "3. Difficulty in Debugging: Debugging multithreaded programs can be more difficult due to the non-deterministic nature of thread execution. Issues such as race conditions and deadlocks may not always manifest consistently and can be challenging to reproduce and debug.\n",
    "\n",
    "4. Potential for Synchronization Issues: When multiple threads access shared resources simultaneously, synchronization issues can arise. It requires careful handling of synchronization mechanisms, such as locks, semaphores, and condition variables, to ensure proper coordination and avoid data corruption or inconsistencies."
   ]
  },
  {
   "cell_type": "code",
   "execution_count": null,
   "id": "a6291276",
   "metadata": {},
   "outputs": [],
   "source": [
    "Q6. Explain deadlocks and race conditions."
   ]
  },
  {
   "cell_type": "code",
   "execution_count": null,
   "id": "3375f6d1",
   "metadata": {},
   "outputs": [],
   "source": [
    "Deadlock: Deadlock is a situation in concurrent programming where two or more threads or processes are unable to proceed because each is waiting for the other to release a resource or take a specific action. In a deadlock, the involved threads/processes are stuck in a circular waiting state, resulting in a complete halt of the program.\n",
    "\n",
    "Deadlocks occur when the following conditions are simultaneously satisfied:\n",
    "\n",
    "1. Mutual Exclusion: At least one resource must be held exclusively by a thread or process, preventing other threads or processes from accessing it.\n",
    "\n",
    "2. Hold and Wait: A thread or process holding a resource is also waiting to acquire additional resources that are currently held by other threads or processes.\n",
    "\n",
    "3. No Preemption: Resources cannot be forcibly taken away from a thread or process; they can only be released voluntarily.\n",
    "\n",
    "4. Circular Wait: A circular chain of two or more threads or processes exists, where each thread/process is waiting for a resource held by another thread/process in the chain.\n",
    "\n",
    "Deadlocks can lead to program freezing or indefinite waiting, causing the system to become unresponsive. Detecting and resolving deadlocks can be complex and requires careful analysis and design of concurrent programs.\n",
    "\n",
    "Race Condition: A race condition occurs in concurrent programming when multiple threads access shared data or resources concurrently, and the final outcome of the program depends on the timing and interleaving of their execution. Race conditions can result in unexpected and erroneous behavior, as the correctness of the program becomes dependent on the non-deterministic order of thread execution.\n",
    "\n",
    "Race conditions typically occur when the following conditions are met:\n",
    "\n",
    "1. Shared Data: Multiple threads access shared data or resources.\n",
    "\n",
    "2. Non-Atomic Operations: The operations performed on the shared data are not atomic, meaning they are not executed as a single, indivisible unit.\n",
    "\n",
    "3. Unsynchronized Access: The threads do not synchronize their access to the shared data using appropriate synchronization mechanisms, such as locks or semaphores."
   ]
  }
 ],
 "metadata": {
  "kernelspec": {
   "display_name": "Python 3 (ipykernel)",
   "language": "python",
   "name": "python3"
  },
  "language_info": {
   "codemirror_mode": {
    "name": "ipython",
    "version": 3
   },
   "file_extension": ".py",
   "mimetype": "text/x-python",
   "name": "python",
   "nbconvert_exporter": "python",
   "pygments_lexer": "ipython3",
   "version": "3.9.7"
  }
 },
 "nbformat": 4,
 "nbformat_minor": 5
}
