{
 "cells": [
  {
   "cell_type": "code",
   "execution_count": null,
   "id": "1fbf9ba4",
   "metadata": {},
   "outputs": [],
   "source": [
    "Q1. Explain Class and Object with respect to Object-Oriented Programming. Give a suitable example."
   ]
  },
  {
   "cell_type": "code",
   "execution_count": null,
   "id": "4ae6454d",
   "metadata": {},
   "outputs": [],
   "source": [
    "In object-oriented programming (OOP), a class is a blueprint or template for creating objects, while an object is an instance of a class. Classes define the properties (attributes) and behaviors (methods) that objects of that class will have.\n",
    "\n",
    "A class acts as a blueprint that defines the common characteristics and behaviors that its objects will exhibit. It encapsulates data and functions related to a specific concept or entity. The data is represented by attributes, which are variables associated with the class. The functions defined within the class are called methods and define the behavior of the objects.\n",
    "\n",
    "On the other hand, an object is a specific instance of a class. It is created from the class blueprint and represents a unique entity. Each object has its own set of attributes and can perform actions defined by the class methods. Objects can interact with each other and modify their own state or the state of other objects through method invocations.\n",
    "\n",
    "Here's an example to illustrate the concept of a class and an object:\n"
   ]
  },
  {
   "cell_type": "code",
   "execution_count": 1,
   "id": "fceef5ff",
   "metadata": {},
   "outputs": [
    {
     "name": "stdout",
     "output_type": "stream",
     "text": [
      "Make: Ford\n",
      "Model: Mustang\n",
      "Year: 2022\n",
      "Speed: 30 km/h\n",
      "Make: Tesla\n",
      "Model: Model 3\n",
      "Year: 2021\n",
      "Speed: 10 km/h\n"
     ]
    }
   ],
   "source": [
    "class Car:\n",
    "    def __init__(self, make, model, year):\n",
    "        self.make = make\n",
    "        self.model = model\n",
    "        self.year = year\n",
    "        self.speed = 0\n",
    "\n",
    "    def accelerate(self, increment):\n",
    "        self.speed += increment\n",
    "\n",
    "    def brake(self, decrement):\n",
    "        self.speed -= decrement\n",
    "\n",
    "    def display_info(self):\n",
    "        print(f\"Make: {self.make}\")\n",
    "        print(f\"Model: {self.model}\")\n",
    "        print(f\"Year: {self.year}\")\n",
    "        print(f\"Speed: {self.speed} km/h\")\n",
    "car1 = Car(\"Ford\", \"Mustang\", 2022)\n",
    "car2 = Car(\"Tesla\", \"Model 3\", 2021)\n",
    "car1.accelerate(30)\n",
    "car1.display_info()\n",
    "\n",
    "car2.accelerate(20)\n",
    "car2.brake(10)\n",
    "car2.display_info()"
   ]
  },
  {
   "cell_type": "code",
   "execution_count": null,
   "id": "e68e42d1",
   "metadata": {},
   "outputs": [],
   "source": [
    "Q2. Name the four pillars of OOPs."
   ]
  },
  {
   "cell_type": "code",
   "execution_count": null,
   "id": "4e8b08ee",
   "metadata": {},
   "outputs": [],
   "source": [
    "The four pillars of object-oriented programming (OOP) are:\n",
    "\n",
    "Encapsulation: Encapsulation refers to the bundling of data and methods together within a class. It is the mechanism that allows the data to be hidden and protected from external access. The class encapsulates the data and provides methods to interact with that data. Encapsulation helps in achieving data abstraction and data hiding.\n",
    "\n",
    "Inheritance: Inheritance is the mechanism that allows a class to inherit the properties and methods of another class. It enables the creation of a hierarchical relationship between classes, where the child class inherits the attributes and behaviors of the parent class. Inheritance promotes code reuse and allows for the extension and customization of existing classes.\n",
    "\n",
    "Polymorphism: Polymorphism means the ability of an object to take on different forms or exhibit different behaviors. It allows objects of different classes to be treated as objects of a common base class. Polymorphism can be achieved through method overriding and method overloading. It helps in writing more flexible and adaptable code.\n",
    "\n",
    "Abstraction: Abstraction refers to the process of representing complex real-world entities as simplified models within the program. It focuses on the essential characteristics of an object while hiding unnecessary details. Abstraction allows us to create abstract classes and interfaces that define a common structure and behavior for a group of objects. It helps in managing complexity and enables modular programming.\n",
    "\n",
    "These four pillars form the foundation of object-oriented programming and provide principles and concepts to design and develop robust and maintainable software systems.\n"
   ]
  },
  {
   "cell_type": "code",
   "execution_count": null,
   "id": "f7fd4b8b",
   "metadata": {},
   "outputs": [],
   "source": [
    "Q3. Explain why the __init__() function is used. Give a suitable example."
   ]
  },
  {
   "cell_type": "code",
   "execution_count": null,
   "id": "81378827",
   "metadata": {},
   "outputs": [],
   "source": [
    "The __init__() function is a special method in Python classes that is automatically called when an object is created from the class. It is used to initialize the attributes of an object. The name __init__ stands for \"initialize.\"\n",
    "\n",
    "The __init__() function allows us to set the initial state or values of the object's attributes. It is a common practice to define this method within a class to ensure that every object created from that class starts with the desired initial state.\n",
    "\n",
    "Here's an example to illustrate the use of the __init__() function:"
   ]
  },
  {
   "cell_type": "code",
   "execution_count": 4,
   "id": "b2fe81ef",
   "metadata": {},
   "outputs": [
    {
     "name": "stdout",
     "output_type": "stream",
     "text": [
      "Name: John\n",
      "Age: 25\n",
      "Name: Alice\n",
      "Age: 30\n"
     ]
    }
   ],
   "source": [
    "class Person:\n",
    "    def __init__(self, name, age):\n",
    "        self.name = name\n",
    "        self.age = age\n",
    "\n",
    "    def display_info(self):\n",
    "        print(f\"Name: {self.name}\")\n",
    "        print(f\"Age: {self.age}\")\n",
    "person1 = Person(\"John\", 25)\n",
    "person2 = Person(\"Alice\", 30)\n",
    "person1.display_info()\n",
    "person2.display_info()"
   ]
  },
  {
   "cell_type": "code",
   "execution_count": null,
   "id": "5f292c71",
   "metadata": {},
   "outputs": [],
   "source": [
    "Q4. Why self is used in OOPs?"
   ]
  },
  {
   "cell_type": "code",
   "execution_count": null,
   "id": "319a3129",
   "metadata": {},
   "outputs": [],
   "source": [
    "In object-oriented programming (OOP), the self parameter is used to refer to the instance (object) of a class. It is a convention in Python to use the name self as the first parameter in method definitions within a class.\n",
    "\n",
    "The self parameter allows us to access and manipulate the attributes and methods of an object within its own class. It serves as a reference to the instance of the class on which the method is being called.\n",
    "\n",
    "Here are a few reasons why self is used in OOP:\n",
    "\n",
    "1. Accessing instance attributes: The self parameter allows methods to access the attributes specific to the instance of the class. By using self.attribute_name, we can access and modify the instance's attributes throughout the class.\n",
    "\n",
    "2. Calling other methods: Within a class, methods can call other methods using self.method_name(). This allows methods to interact with each other and perform actions on the instance.\n",
    "\n",
    "3. Creating and modifying object state: self is used to modify the state (values) of an object's attributes. It provides a way to store and retrieve data specific to each instance of the class.\n",
    "\n",
    "4. Differentiating between instance and local variables: By using self.attribute_name, we can differentiate between instance attributes and local variables within a method. It helps in avoiding naming conflicts and ensures that we are referring to the attributes of the object."
   ]
  },
  {
   "cell_type": "code",
   "execution_count": null,
   "id": "7f575c4d",
   "metadata": {},
   "outputs": [],
   "source": [
    "Q5. What is inheritance? Give an example for each type of inheritance."
   ]
  },
  {
   "cell_type": "code",
   "execution_count": null,
   "id": "54248a45",
   "metadata": {},
   "outputs": [],
   "source": [
    "Inheritance is a fundamental concept in object-oriented programming (OOP) that allows a class to inherit properties and behaviors from another class. The class that is being inherited from is called the parent class, base class, or superclass. The class that inherits the properties and behaviors is called the child class, derived class, or subclass.\n",
    "\n",
    "Inheritance facilitates code reuse, promotes modularity, and allows for the creation of hierarchical relationships between classes. The child class can inherit attributes and methods from the parent class and can also add its own unique attributes and methods or override the ones inherited from the parent class.\n",
    "\n",
    "There are different types of inheritance, each with its own characteristics. Let's explore each type with an example:\n",
    "\n",
    "1. Single Inheritance:\n",
    "Single inheritance involves a child class inheriting from a single parent class. The child class inherits all the attributes and methods of the parent class.\n"
   ]
  },
  {
   "cell_type": "code",
   "execution_count": 5,
   "id": "5a6856b2",
   "metadata": {},
   "outputs": [
    {
     "name": "stdout",
     "output_type": "stream",
     "text": [
      "The animal speaks.\n",
      "The dog barks.\n"
     ]
    }
   ],
   "source": [
    "class Animal:\n",
    "    def speak(self):\n",
    "        print(\"The animal speaks.\")\n",
    "\n",
    "class Dog(Animal):\n",
    "    def bark(self):\n",
    "        print(\"The dog barks.\")\n",
    "dog = Dog()\n",
    "dog.speak()  \n",
    "dog.bark()"
   ]
  },
  {
   "cell_type": "code",
   "execution_count": 6,
   "id": "f49ee470",
   "metadata": {},
   "outputs": [
    {
     "name": "stdout",
     "output_type": "stream",
     "text": [
      "The car is being driven.\n",
      "The car is being charged.\n",
      "This is a hybrid car.\n"
     ]
    }
   ],
   "source": [
    "#2. Multiple Inheritance:\n",
    "# Multiple inheritance involves a child class inheriting from multiple parent classes. The child class inherits attributes and methods from all the parent classes.\n",
    "class Car:\n",
    "    def drive(self):\n",
    "        print(\"The car is being driven.\")\n",
    "\n",
    "class Electric:\n",
    "    def charge(self):\n",
    "        print(\"The car is being charged.\")\n",
    "\n",
    "class HybridCar(Car, Electric):\n",
    "    def display_info(self):\n",
    "        print(\"This is a hybrid car.\")\n",
    "hybrid_car = HybridCar()\n",
    "hybrid_car.drive()   \n",
    "hybrid_car.charge()  \n",
    "hybrid_car.display_info()"
   ]
  },
  {
   "cell_type": "code",
   "execution_count": 7,
   "id": "6d733f99",
   "metadata": {},
   "outputs": [
    {
     "name": "stdout",
     "output_type": "stream",
     "text": [
      "This is a vehicle.\n",
      "This is a car.\n",
      "This is a sedan car.\n"
     ]
    }
   ],
   "source": [
    "# 3. Multilevel Inheritance:\n",
    "# Multilevel inheritance involves a child class inheriting from another child class, creating a chain of inheritance. Each subclass inherits attributes and methods from its immediate parent class.\n",
    "class Vehicle:\n",
    "    def display_info(self):\n",
    "        print(\"This is a vehicle.\")\n",
    "\n",
    "class Car(Vehicle):\n",
    "    def display_car_info(self):\n",
    "        print(\"This is a car.\")\n",
    "\n",
    "class SedanCar(Car):\n",
    "    def display_sedan_info(self):\n",
    "        print(\"This is a sedan car.\")\n",
    "sedan = SedanCar()\n",
    "sedan.display_info()         \n",
    "sedan.display_car_info()     \n",
    "sedan.display_sedan_info()"
   ]
  },
  {
   "cell_type": "code",
   "execution_count": 9,
   "id": "dcd9533c",
   "metadata": {},
   "outputs": [
    {
     "name": "stdout",
     "output_type": "stream",
     "text": [
      "Drawing a shape.\n",
      "Drawing a rectangle.\n",
      "Drawing a shape.\n",
      "Drawing a circle.\n"
     ]
    }
   ],
   "source": [
    "# 4. Hierarchical Inheritance:\n",
    "#Hierarchical inheritance involves multiple child classes inheriting from a single parent class. Each child class inherits attributes and methods from the parent class.\n",
    "class Shape:\n",
    "    def draw(self):\n",
    "        print(\"Drawing a shape.\")\n",
    "\n",
    "class Rectangle(Shape):\n",
    "    def draw_rectangle(self):\n",
    "        print(\"Drawing a rectangle.\")\n",
    "\n",
    "class Circle(Shape):\n",
    "    def draw_circle(self):\n",
    "        print(\"Drawing a circle.\")\n",
    "rectangle = Rectangle()\n",
    "circle = Circle()\n",
    "rectangle.draw()         \n",
    "rectangle.draw_rectangle()\n",
    "circle.draw()            \n",
    "circle.draw_circle() "
   ]
  },
  {
   "cell_type": "code",
   "execution_count": null,
   "id": "cb445c0c",
   "metadata": {},
   "outputs": [],
   "source": []
  },
  {
   "cell_type": "code",
   "execution_count": null,
   "id": "d6f46d13",
   "metadata": {},
   "outputs": [],
   "source": []
  },
  {
   "cell_type": "code",
   "execution_count": null,
   "id": "3b00645c",
   "metadata": {},
   "outputs": [],
   "source": []
  }
 ],
 "metadata": {
  "kernelspec": {
   "display_name": "Python 3 (ipykernel)",
   "language": "python",
   "name": "python3"
  },
  "language_info": {
   "codemirror_mode": {
    "name": "ipython",
    "version": 3
   },
   "file_extension": ".py",
   "mimetype": "text/x-python",
   "name": "python",
   "nbconvert_exporter": "python",
   "pygments_lexer": "ipython3",
   "version": "3.9.7"
  }
 },
 "nbformat": 4,
 "nbformat_minor": 5
}
